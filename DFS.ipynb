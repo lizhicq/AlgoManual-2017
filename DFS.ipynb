{
  "nbformat": 4,
  "nbformat_minor": 0,
  "metadata": {
    "colab": {
      "name": "DFS",
      "version": "0.3.2",
      "provenance": []
    },
    "kernelspec": {
      "name": "python2",
      "display_name": "Python 2"
    }
  },
  "cells": [
    {
      "cell_type": "markdown",
      "metadata": {
        "id": "view-in-github",
        "colab_type": "text"
      },
      "source": [
        "[View in Colaboratory](https://colab.research.google.com/github/lizhicq/Lintcode-2018/blob/master/DFS.ipynb)"
      ]
    },
    {
      "metadata": {
        "id": "2bnoQdv0PFh2",
        "colab_type": "text"
      },
      "cell_type": "markdown",
      "source": [
        "# Combination-based DFS\n",
        "\n",
        "This is to denoted the combination-based DFS:\n"
      ]
    },
    {
      "metadata": {
        "id": "TFzIInAgPYAt",
        "colab_type": "text"
      },
      "cell_type": "markdown",
      "source": [
        "## Subsets I, II\n",
        "\n",
        "Given a list of numbers that may has duplicate numbers, return all possible subsets. \n",
        "\n",
        "Subset I does not have duplicate number version. \n",
        "\n",
        "```\n",
        "If S = [1,2,2], a solution is:\n",
        "\n",
        "[\n",
        "  [2],\n",
        "  [1],\n",
        "  [1,2,2],\n",
        "  [2,2],\n",
        "  [1,2],\n",
        "  []\n",
        "]\n",
        "```"
      ]
    },
    {
      "metadata": {
        "id": "r5YuOlu-Rels",
        "colab_type": "text"
      },
      "cell_type": "markdown",
      "source": [
        "这道题是样板题，基于组合的DFS题目很多都可以用这道题的写法改过来，推荐使用下面第一个个模板，我测试过速度最快。可扩展性也最高。"
      ]
    },
    {
      "metadata": {
        "id": "1z_xwiszPWh2",
        "colab_type": "code",
        "colab": {}
      },
      "cell_type": "code",
      "source": [
        "class Solution:\n",
        "    def subsetsWithDup1(self, S):\n",
        "        if len(S) == 0:\n",
        "            return [[]]\n",
        "        res = []\n",
        "\n",
        "        def dfs(index, tmp):\n",
        "            res.append(tmp)\n",
        "            for i in range(index, len(S)):\n",
        "                if(i != index and S[i-1] == S[i]): \n",
        "                    continue\n",
        "                dfs(i+1, tmp + [S[i]])\n",
        "        S.sort()    \n",
        "        dfs(0, [])\n",
        "        return res\n",
        "      \n",
        "    def subsetsWithDup2(self, S):\n",
        "        if len(S) == 0:\n",
        "            return []\n",
        "        S.sort()\n",
        "        res = []\n",
        "\n",
        "        # search from index with all sets starting with tmp\n",
        "        def dfs(tmp, index):\n",
        "            if index == len(S):\n",
        "                res.append(tmp)\n",
        "                return\n",
        "\n",
        "            dfs(tmp + [S[index]], index + 1)\n",
        "            while index < len(S) - 1 and S[index] == S[index+1]:\n",
        "                index += 1\n",
        "            dfs(tmp, index + 1)\n",
        "\n",
        "        dfs([], 0)\n",
        "        return res"
      ],
      "execution_count": 0,
      "outputs": []
    },
    {
      "metadata": {
        "id": "qCROoVNBSXUE",
        "colab_type": "code",
        "colab": {}
      },
      "cell_type": "code",
      "source": [
        "import random, timeit\n",
        "S = [1,2,3,3,5,5,6,7,8,1,3,4,5,123,1231,3,123,123,123,12,312,3123]\n",
        "print timeit.timeit('Solution().subsetsWithDup1(S)',  \n",
        "                    setup='from __main__ import Solution, S', number=200)\n",
        "print timeit.timeit('Solution().subsetsWithDup2(S)', \n",
        "                    setup='from __main__ import Solution, S', number=200)"
      ],
      "execution_count": 0,
      "outputs": []
    }
  ]
}
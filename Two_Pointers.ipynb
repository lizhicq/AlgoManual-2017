{
  "nbformat": 4,
  "nbformat_minor": 0,
  "metadata": {
    "colab": {
      "name": "Two Pointers.ipynb",
      "version": "0.3.2",
      "provenance": [],
      "collapsed_sections": [],
      "toc_visible": true
    },
    "kernelspec": {
      "name": "python2",
      "display_name": "Python 2"
    }
  },
  "cells": [
    {
      "cell_type": "markdown",
      "metadata": {
        "id": "view-in-github",
        "colab_type": "text"
      },
      "source": [
        "[View in Colaboratory](https://colab.research.google.com/github/lizhicq/Lintcode-2018/blob/master/Two_Pointers.ipynb)"
      ]
    },
    {
      "metadata": {
        "id": "kNIAciQbLDms",
        "colab_type": "text"
      },
      "cell_type": "markdown",
      "source": [
        "# Median of K Sorted Arrays"
      ]
    },
    {
      "metadata": {
        "id": "PJpdO4rlK6r9",
        "colab_type": "text"
      },
      "cell_type": "markdown",
      "source": [
        "There are k sorted arrays nums. Find the median of the given k sorted arrays.\n",
        "\n",
        "Notice:\n",
        "\n",
        "The length of the given arrays may not equal to each other.\n",
        "The elements of the given arrays are all positive number.\n",
        "Return 0 if there are no elements in the array.\n",
        "\n",
        "\n",
        "Example:\n",
        "\n",
        "Given nums = [[1],[2],[3]], return 2.00."
      ]
    },
    {
      "metadata": {
        "id": "rgGEoZOINU-Y",
        "colab_type": "text"
      },
      "cell_type": "markdown",
      "source": [
        ""
      ]
    },
    {
      "metadata": {
        "id": "IbKHrBJfK0we",
        "colab_type": "text"
      },
      "cell_type": "markdown",
      "source": [
        "Several methods,\n",
        "\n",
        "1. create a big res list and use quick select algorithms O(kn) \n",
        "\n",
        "2. select k median of k arrays, and then use this as benchmark to do search the median th element\n",
        "\n",
        "\n",
        "\n",
        "\n"
      ]
    },
    {
      "metadata": {
        "id": "BxSqaOQz3dqX",
        "colab_type": "text"
      },
      "cell_type": "markdown",
      "source": [
        "# Merge K Sorted Arrays\n",
        "\n",
        "\n",
        "Given k sorted integer arrays, merge them into one sorted array."
      ]
    },
    {
      "metadata": {
        "id": "pzGdpJf76RG5",
        "colab_type": "code",
        "colab": {}
      },
      "cell_type": "code",
      "source": [
        "sample = [\n",
        "          [1, 3, 5, 7],\n",
        "          [2, 4, 6],\n",
        "          [0, 8, 9, 10, 11]\n",
        "         ] "
      ],
      "execution_count": 0,
      "outputs": []
    },
    {
      "metadata": {
        "id": "y83D9ePm6WSb",
        "colab_type": "code",
        "colab": {}
      },
      "cell_type": "code",
      "source": [
        "# method 1: 两两排序，每次都重新扫描了一遍，res，这样的复杂度挺高的。\n",
        "\n",
        "class Solution:\n",
        "    \"\"\"\n",
        "    @param arrays: k sorted integer arrays\n",
        "    @return: a sorted array\n",
        "    \"\"\"\n",
        "    def mergekSortedArrays(self, arrays):\n",
        "        if len(arrays) == 0:\n",
        "          return []\n",
        "        def merge(a, b):# merge sort 2 sorted arrays\n",
        "          i,j = 0, 0\n",
        "          res = []\n",
        "          while i < len(a) and j < len(b):\n",
        "            if a[i] <= b[j]:\n",
        "              res.append(a[i])\n",
        "              i += 1\n",
        "            else:\n",
        "              res.append(b[j])\n",
        "              j += 1\n",
        "          while i < len(a):\n",
        "              res.append(a[i])\n",
        "              i += 1\n",
        "          while j < len(b):\n",
        "              res.append(b[j])\n",
        "              j += 1 \n",
        "          return res\n",
        "        \n",
        "        res = []\n",
        "        for arr in arrays:\n",
        "          res = merge(res, arr)\n",
        "        return res\n"
      ],
      "execution_count": 0,
      "outputs": []
    },
    {
      "metadata": {
        "id": "lA839G7L6Wui",
        "colab_type": "code",
        "colab": {
          "base_uri": "https://localhost:8080/",
          "height": 34
        },
        "outputId": "0452a4d4-22f6-44a0-a7dc-b78aec7ec7b3"
      },
      "cell_type": "code",
      "source": [
        "s = Solution()\n",
        "s.mergekSortedArrays(sample)"
      ],
      "execution_count": 0,
      "outputs": [
        {
          "output_type": "execute_result",
          "data": {
            "text/plain": [
              "[0, 1, 2, 3, 4, 5, 6, 7, 8, 9, 10, 11]"
            ]
          },
          "metadata": {
            "tags": []
          },
          "execution_count": 7
        }
      ]
    },
    {
      "metadata": {
        "id": "mZ_Hfs20WLnr",
        "colab_type": "code",
        "colab": {}
      },
      "cell_type": "code",
      "source": [
        "# Method 2: heap method\n",
        "# Use heap to store the first element of the arrays, \n",
        "# and pop out one by one, while pushing the next \n",
        "\n",
        "import heapq\n",
        "\n",
        "class Solution:\n",
        "    # @parame {int[][]} arrays k sorted integer arrays\n",
        "    # @return {int[]} a sorted array\n",
        "    \n",
        "    def mergekSortedArrays(self, arrays):\n",
        "      heap = []\n",
        "      for x, array in enumerate(arrays):\n",
        "        heapq.heappush(heap, (array[0], x, 0)) # (val, x, y) \n",
        "      res = [] \n",
        "      while len(heap) > 0:\n",
        "        val, x, y = heapq.heappop(heap)\n",
        "        res.append(val)\n",
        "        if y < len(arrays[x]) - 1:\n",
        "          val = arrays[x][y+1]\n",
        "          heapq.heappush(heap, (val, x, y+1))\n",
        "      return res\n",
        "      "
      ],
      "execution_count": 0,
      "outputs": []
    },
    {
      "metadata": {
        "id": "s6aanlGaYyJ7",
        "colab_type": "code",
        "colab": {
          "base_uri": "https://localhost:8080/",
          "height": 34
        },
        "outputId": "4c7ab84f-7978-4cd7-fe4a-0ba4739dd0ca"
      },
      "cell_type": "code",
      "source": [
        "sample = [\n",
        "          [1, 3, 5, 7],\n",
        "          [2, 4, 6],\n",
        "          [0, 8, 9, 10, 11]\n",
        "         ] \n",
        "s = Solution()\n",
        "s.mergekSortedArrays(sample)"
      ],
      "execution_count": 0,
      "outputs": [
        {
          "output_type": "execute_result",
          "data": {
            "text/plain": [
              "[0, 1, 2, 3, 4, 5, 6, 7, 8, 9, 10, 11]"
            ]
          },
          "metadata": {
            "tags": []
          },
          "execution_count": 12
        }
      ]
    },
    {
      "metadata": {
        "id": "JMdMWQmea7WT",
        "colab_type": "text"
      },
      "cell_type": "markdown",
      "source": [
        "# Sparse Matrix Multiplication\n"
      ]
    },
    {
      "metadata": {
        "id": "gEz4MCqKbCXD",
        "colab_type": "text"
      },
      "cell_type": "markdown",
      "source": [
        ""
      ]
    },
    {
      "metadata": {
        "id": "OBva4WembD22",
        "colab_type": "text"
      },
      "cell_type": "markdown",
      "source": [
        "Given two Sparse Matrix A and B, return the result of AB.\n",
        "\n",
        "You may assume that A's column number is equal to B's row number.\n",
        "\n",
        "A = [\n",
        "  [ 1, 0, 0],\n",
        "  [-1, 0, 3]\n",
        "]\n",
        "\n",
        "B = [\n",
        "  [ 7, 0, 0 ],\n",
        "  [ 0, 0, 0 ],\n",
        "  [ 0, 0, 1 ]\n",
        "]\n",
        "\n",
        "\n",
        "     |  1 0 0 |   | 7 0 0 |   |  7 0 0 |\n",
        "AB = | -1 0 3 | x | 0 0 0 | = | -7 0 3 |\n",
        "                  | 0 0 1 |"
      ]
    },
    {
      "metadata": {
        "id": "g2mz1Sg5bN6k",
        "colab_type": "code",
        "colab": {}
      },
      "cell_type": "code",
      "source": [
        "class Solution:\n",
        "    \"\"\"\n",
        "    @param A: a sparse matrix\n",
        "    @param B: a sparse matrix\n",
        "    @return: the result of A * B\n",
        "    \"\"\"\n",
        "    def multiply(self, A, B):\n",
        "        if len(A) == 0 or len(B) == 0:\n",
        "          return -1 \n",
        "        row_A, col_A = len(A), len(A[0])\n",
        "        row_B, col_B = len(B), len(B[0])\n",
        "        \n",
        "        if col_A != row_B:\n",
        "          return -1 # cannot mutiply\n",
        "        \n",
        "        res = [[0 for i in range(col_B)] for j in range(row_A)]\n",
        "        \n",
        "        for i in range(row_A):\n",
        "          for k in range(col_A):\n",
        "            if A[i][k] != 0: # sparese matrix optimazation \n",
        "              for j in range(col_B):\n",
        "                  if B[k][j] != 0: # sparese matrix optimazation not very useful\n",
        "                    res[i][j] += A[i][k] * B[k][j]\n",
        "        return res"
      ],
      "execution_count": 0,
      "outputs": []
    },
    {
      "metadata": {
        "id": "klcNtcncbV4t",
        "colab_type": "code",
        "colab": {
          "base_uri": "https://localhost:8080/",
          "height": 34
        },
        "outputId": "88d7801c-d4ff-4aaa-c8d9-108edc0151e7"
      },
      "cell_type": "code",
      "source": [
        "A = [ [ 1, 0, 0], [-1, 0, 3] ]\n",
        "\n",
        "B = [ [ 7, 0, 0 ], [ 0, 0, 0 ], [ 0, 0, 1 ] ]\n",
        "\n",
        "s = Solution()\n",
        "s.multiply(A, B)"
      ],
      "execution_count": 0,
      "outputs": [
        {
          "output_type": "execute_result",
          "data": {
            "text/plain": [
              "[[7, 0, 0], [-7, 0, 3]]"
            ]
          },
          "metadata": {
            "tags": []
          },
          "execution_count": 21
        }
      ]
    },
    {
      "metadata": {
        "id": "blV2y4Cxcw9s",
        "colab_type": "text"
      },
      "cell_type": "markdown",
      "source": [
        "# Merge K Sorted Interval Lists"
      ]
    },
    {
      "metadata": {
        "id": "BYk6WN2IcztT",
        "colab_type": "text"
      },
      "cell_type": "markdown",
      "source": [
        "Description Merge K sorted interval lists into one sorted interval list. You need to merge overlapping intervals too.\n",
        "\n",
        "Have you met this question in a real interview?\n",
        "Example Given\n",
        "\n",
        "[ [(1,3),(4,7),(6,8)], [(1,2),(9,10)] ] \n",
        "\n",
        "Return\n",
        "\n",
        "[(1,3),(4,8),(9,10)]\n",
        "\n",
        "用heap保存(start, end, x, y) 在heap中会以start为大小排序依次被pop出，从头开始，因为是k个区间排序好的，所以可以节约空间到O(k)，\n",
        "\n",
        "每次从heap中取出start最小的interval(new_start, new_end)， 然后push进该interval所在列表的下个interval。\n",
        "\n",
        "if cur_end >= new_start:\n",
        "\n",
        "updated cur_end = max(cur_end, new_end)\n",
        "\n",
        "else:\n",
        "\n",
        "put (cur_start, cur_end) into res updated cur_start, cur_end to new_start, new_end"
      ]
    },
    {
      "metadata": {
        "id": "XnzJHnpf5UPx",
        "colab_type": "code",
        "colab": {}
      },
      "cell_type": "code",
      "source": [
        "\"\"\"\n",
        "Definition of Interval.\n",
        "\"\"\"\n",
        "class Interval(object):\n",
        "    def __init__(self, start, end):\n",
        "        self.start = start\n",
        "        self.end = end\n",
        "\n",
        "import heapq\n",
        "class Solution:\n",
        "    \"\"\"\n",
        "    @param intervals: the given k sorted interval lists\n",
        "    @return:  the new sorted interval list\n",
        "    \"\"\"\n",
        "    def mergeKSortedIntervalLists(self, intervals):\n",
        "        heap = []\n",
        "        for x, interval_list in enumerate(intervals):\n",
        "          if len(interval_list) > 0:\n",
        "            heapq.heappush(heap, (interval_list[0].start, \n",
        "                                interval_list[0].end, x, 0)) \n",
        "\n",
        "          # which (start, end, which list, which interval)\n",
        "\n",
        "        start, end, x, y = heapq.heappop(heap) # get the least start interval\n",
        "        if y + 1 < len(intervals[x]):\n",
        "          heapq.heappush(heap, (intervals[x][y+1].start, \n",
        "                              intervals[x][y+1].end, x, y+1))\n",
        "        res = []\n",
        "        while len(heap) > 0:\n",
        "          cur_start, cur_end, x, y = heapq.heappop(heap) # (new_start, new_end, x, y)\n",
        "          if end >= cur_end:\n",
        "            end = max(end, cur_end) # end can be larger than new_end \n",
        "          else:\n",
        "            res.append(Interval(start, end))\n",
        "            start = cur_start\n",
        "            end = cur_end\n",
        "          if y + 1 < len(intervals[x]):\n",
        "            heapq.heappush(heap, (intervals[x][y+1].start, \n",
        "                                  intervals[x][y+1].end, x, y+1))\n",
        "        res.append(Interval(start, end))\n",
        "        return res"
      ],
      "execution_count": 0,
      "outputs": []
    },
    {
      "metadata": {
        "id": "fPzfTR-Ic6pe",
        "colab_type": "code",
        "colab": {
          "base_uri": "https://localhost:8080/",
          "height": 225
        },
        "outputId": "4470942e-0fda-4ece-958f-ae4a754890ac"
      },
      "cell_type": "code",
      "source": [
        "sample = [[(2,5),(9,13),(16,28),(32,53)],\n",
        "[(1,3),(16,17),(22,27),(47,51)],\n",
        "[(16,22),(31,50),(51,53),(57,61)],\n",
        "[(1,9),(17,20),(23,25),(27,34)],\n",
        "[(4,11),(14,18),(19,21),(28,35)]]\n",
        "intervals = []\n",
        "for intv_list in sample:\n",
        "    intervals.append( [Interval(x,y) for (x, y) in intv_list])\n",
        "\n",
        "s = Solution()\n",
        "\n",
        "for res in s.mergeKSortedIntervalLists(intervals):\n",
        "  print (res.start, res.end)\n",
        "  "
      ],
      "execution_count": 0,
      "outputs": [
        {
          "output_type": "stream",
          "text": [
            "(1, 3)\n",
            "(1, 9)\n",
            "(4, 11)\n",
            "(9, 13)\n",
            "(14, 18)\n",
            "(16, 22)\n",
            "(16, 28)\n",
            "(27, 34)\n",
            "(28, 35)\n",
            "(31, 50)\n",
            "(32, 53)\n",
            "(57, 61)\n"
          ],
          "name": "stdout"
        }
      ]
    }
  ]
}
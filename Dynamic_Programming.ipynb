{
  "nbformat": 4,
  "nbformat_minor": 0,
  "metadata": {
    "colab": {
      "name": "Dynamic Programming.ipynb",
      "version": "0.3.2",
      "views": {},
      "default_view": {},
      "provenance": [],
      "collapsed_sections": [],
      "toc_visible": true
    },
    "kernelspec": {
      "name": "python2",
      "display_name": "Python 2"
    }
  },
  "cells": [
    {
      "metadata": {
        "id": "Ui-_FBhCt56j",
        "colab_type": "text"
      },
      "cell_type": "markdown",
      "source": [
        "# 坐标型动态规划"
      ]
    },
    {
      "metadata": {
        "id": "JF1PH6BYyFqc",
        "colab_type": "text"
      },
      "cell_type": "markdown",
      "source": [
        "## Unique Path I, II"
      ]
    },
    {
      "metadata": {
        "id": "rCshAYNFyNWn",
        "colab_type": "text"
      },
      "cell_type": "markdown",
      "source": [
        "A robot is located at the top-left corner of a m x n grid.\n",
        "\n",
        "The robot can only move either down or right at any point in time. The robot is trying to reach the bottom-right corner of the grid.\n",
        "\n",
        "How many possible unique paths are there?\n",
        "\n",
        "\n",
        "Given m = 3 and n = 3, return 6.\n",
        "Given m = 4 and n = 5, return 35."
      ]
    },
    {
      "metadata": {
        "id": "fC488BXGyQx-",
        "colab_type": "code",
        "colab": {
          "autoexec": {
            "startup": false,
            "wait_interval": 0
          }
        }
      },
      "cell_type": "code",
      "source": [
        "class Solution:\n",
        "    \"\"\"\n",
        "    @param m: positive integer (1 <= m <= 100)\n",
        "    @param n: positive integer (1 <= n <= 100)\n",
        "    @return: An integer\n",
        "    \"\"\"\n",
        "    def uniquePaths(self, m, n):\n",
        "        dp = [[1 for _ in range(n)] for __ in range(m)]\n",
        "        for x in range(1, m):\n",
        "            for y in range(1, n):\n",
        "                dp[x][y] = dp[x-1][y] + dp[x][y-1]\n",
        "        return dp[m-1][n-1]"
      ],
      "execution_count": 0,
      "outputs": []
    },
    {
      "metadata": {
        "id": "CM7zBsciya5u",
        "colab_type": "code",
        "colab": {
          "autoexec": {
            "startup": false,
            "wait_interval": 0
          },
          "base_uri": "https://localhost:8080/",
          "height": 34
        },
        "outputId": "43bb612a-d0c8-4850-c3ee-627955598377",
        "executionInfo": {
          "status": "ok",
          "timestamp": 1525733336385,
          "user_tz": 240,
          "elapsed": 253,
          "user": {
            "displayName": "lizhicq",
            "photoUrl": "//lh4.googleusercontent.com/-R_dmghHMiUg/AAAAAAAAAAI/AAAAAAAAGrA/RYlQGChf2so/s50-c-k-no/photo.jpg",
            "userId": "107448605714274358475"
          }
        }
      },
      "cell_type": "code",
      "source": [
        "sample = [3,3]\n",
        "s = Solution()\n",
        "s.uniquePaths(sample[0], sample[1])"
      ],
      "execution_count": 5,
      "outputs": [
        {
          "output_type": "execute_result",
          "data": {
            "text/plain": [
              "6"
            ]
          },
          "metadata": {
            "tags": []
          },
          "execution_count": 5
        }
      ]
    },
    {
      "metadata": {
        "id": "5Av7z5CAy0DB",
        "colab_type": "text"
      },
      "cell_type": "markdown",
      "source": [
        "Follow up for \"Unique Paths\":\n",
        "\n",
        "Now consider if some obstacles are added to the grids. How many unique paths would there be?\n",
        "\n",
        "An obstacle and empty space is marked as 1 and 0 respectively in the grid.\n",
        "\n",
        "For example,\n",
        "There is one obstacle in the middle of a 3x3 grid as illustrated below.\n",
        "\n",
        "[\n",
        "  [0,0,0],\n",
        "  [0,1,0],\n",
        "  [0,0,0]\n",
        "]"
      ]
    },
    {
      "metadata": {
        "id": "FJZ9OICay_N2",
        "colab_type": "code",
        "colab": {
          "autoexec": {
            "startup": false,
            "wait_interval": 0
          }
        }
      },
      "cell_type": "code",
      "source": [
        "class Solution:\n",
        "    \"\"\"\n",
        "    @param obstacleGrid: A list of lists of integers\n",
        "    @return: An integer\n",
        "    \"\"\"\n",
        "    def uniquePathsWithObstacles(self, obstacleGrid):\n",
        "        if len(obstacleGrid) == 0 or len(obstacleGrid[0]) == 0:\n",
        "            return 0\n",
        "        m, n = len(obstacleGrid), len(obstacleGrid[0])\n",
        "        dp = [[0 for _ in range(n)] for __ in range(m)]\n",
        "        # dp[x][y] stands for pos x, y unique path numbers, 0 indexed\n",
        "        # init dp[x][0] = 1 and dp[0][y] = 1\n",
        "\n",
        "        for i in range(m):\n",
        "            if obstacleGrid[i][0] == 0:\n",
        "                dp[i][0] = 1\n",
        "                continue\n",
        "            break\n",
        "        for j in range(n):\n",
        "            if obstacleGrid[0][j] == 0:\n",
        "                dp[0][j] = 1\n",
        "                continue\n",
        "            break\n",
        "\n",
        "        for x in range(1, m):\n",
        "            for y in range(1, n):\n",
        "                dp[x][y] = dp[x-1][y] + dp[x][y-1] if obstacleGrid[x][y] == 0 else 0\n",
        "\n",
        "#        print dp\n",
        "        return dp[m-1][n-1]"
      ],
      "execution_count": 0,
      "outputs": []
    },
    {
      "metadata": {
        "id": "PU1LhBwmyyQN",
        "colab_type": "code",
        "colab": {
          "autoexec": {
            "startup": false,
            "wait_interval": 0
          },
          "base_uri": "https://localhost:8080/",
          "height": 34
        },
        "outputId": "9b961a42-5391-43d3-81cb-726b0abf5106",
        "executionInfo": {
          "status": "ok",
          "timestamp": 1525733523053,
          "user_tz": 240,
          "elapsed": 234,
          "user": {
            "displayName": "lizhicq",
            "photoUrl": "//lh4.googleusercontent.com/-R_dmghHMiUg/AAAAAAAAAAI/AAAAAAAAGrA/RYlQGChf2so/s50-c-k-no/photo.jpg",
            "userId": "107448605714274358475"
          }
        }
      },
      "cell_type": "code",
      "source": [
        "sample = [ [0,0,0], [0,1,0], [0,0,0] ]\n",
        "s = Solution()\n",
        "s.uniquePathsWithObstacles(sample)"
      ],
      "execution_count": 9,
      "outputs": [
        {
          "output_type": "execute_result",
          "data": {
            "text/plain": [
              "2"
            ]
          },
          "metadata": {
            "tags": []
          },
          "execution_count": 9
        }
      ]
    },
    {
      "metadata": {
        "id": "8-veu44AzpHb",
        "colab_type": "text"
      },
      "cell_type": "markdown",
      "source": [
        "## Climbing Stairs I, II"
      ]
    },
    {
      "metadata": {
        "id": "bJtPTbFLzwcC",
        "colab_type": "text"
      },
      "cell_type": "markdown",
      "source": [
        "You are climbing a stair case. It takes n steps to reach to the top.\n",
        "\n",
        "Each time you can either climb 1 or 2 steps. In how many distinct ways can you climb to the top?\n",
        "\n",
        "Have you met this question in a real interview?  \n",
        "Example\n",
        "Given an example n=3 , 1+1+1=2+1=1+2=3\n",
        "\n",
        "return 3"
      ]
    },
    {
      "metadata": {
        "id": "s_lphjxmzn3O",
        "colab_type": "code",
        "colab": {
          "autoexec": {
            "startup": false,
            "wait_interval": 0
          }
        }
      },
      "cell_type": "code",
      "source": [
        "class Solution:\n",
        "    \"\"\"\n",
        "    @param n: An integer\n",
        "    @return: An integer\n",
        "    \"\"\"\n",
        "    def climbStairs(self, n):\n",
        "        if n == 0:\n",
        "            return 0\n",
        "        dp = [1 for _ in range(n+1)] \n",
        "        # init dp[1], dp[2] 1 index based \n",
        "        \n",
        "        for i in range(2,n+1):\n",
        "            dp[i] = dp[i-1] + dp[i-2]\n",
        "        return dp[n]"
      ],
      "execution_count": 0,
      "outputs": []
    },
    {
      "metadata": {
        "id": "pMmLnWONzY2m",
        "colab_type": "code",
        "colab": {
          "autoexec": {
            "startup": false,
            "wait_interval": 0
          },
          "base_uri": "https://localhost:8080/",
          "height": 34
        },
        "outputId": "e70ef7cd-af29-401d-9b4f-22ddbd264b9c",
        "executionInfo": {
          "status": "ok",
          "timestamp": 1525733797928,
          "user_tz": 240,
          "elapsed": 226,
          "user": {
            "displayName": "lizhicq",
            "photoUrl": "//lh4.googleusercontent.com/-R_dmghHMiUg/AAAAAAAAAAI/AAAAAAAAGrA/RYlQGChf2so/s50-c-k-no/photo.jpg",
            "userId": "107448605714274358475"
          }
        }
      },
      "cell_type": "code",
      "source": [
        "sample = 5\n",
        "s = Solution()\n",
        "print s.climbStairs(sample)"
      ],
      "execution_count": 12,
      "outputs": [
        {
          "output_type": "stream",
          "text": [
            "8\n"
          ],
          "name": "stdout"
        }
      ]
    },
    {
      "metadata": {
        "id": "CB8VMP7l6f6U",
        "colab_type": "text"
      },
      "cell_type": "markdown",
      "source": [
        "Description\n",
        "A child is running up a staircase with n steps, and can hop either 1 step, 2 steps, or 3 steps at a time. Implement a method to count how many possible ways the child can run up the stairs.\n",
        "\n",
        "Have you met this question in a real interview?  \n",
        "Example\n",
        "n=3\n",
        "1+1+1=2+1=1+2=3=3\n",
        "\n",
        "return 4"
      ]
    },
    {
      "metadata": {
        "id": "i9_Nhv_J616T",
        "colab_type": "code",
        "colab": {
          "autoexec": {
            "startup": false,
            "wait_interval": 0
          }
        }
      },
      "cell_type": "code",
      "source": [
        "class Solution:\n",
        "    \"\"\"\n",
        "    @param n: An integer\n",
        "    @return: An Integer\n",
        "    \"\"\"\n",
        "    def climbStairs2(self, n):\n",
        "        if n == 0:\n",
        "            return 1\n",
        "        if n <= 2:\n",
        "            return n\n",
        "        dp = [1 for _ in range(n+1)]\n",
        "        dp[2] = 2\n",
        "        for i in range(3, n+1):\n",
        "            dp[i] = dp[i-1] + dp[i-2] + dp[i-3]\n",
        "        return dp[n]"
      ],
      "execution_count": 0,
      "outputs": []
    },
    {
      "metadata": {
        "id": "zfX1aYOC64ya",
        "colab_type": "code",
        "colab": {
          "autoexec": {
            "startup": false,
            "wait_interval": 0
          },
          "base_uri": "https://localhost:8080/",
          "height": 201
        },
        "outputId": "7a66757d-1c71-45a2-f4c5-4e8c1bc5ae13",
        "executionInfo": {
          "status": "error",
          "timestamp": 1525735504267,
          "user_tz": 240,
          "elapsed": 460,
          "user": {
            "displayName": "lizhicq",
            "photoUrl": "//lh4.googleusercontent.com/-R_dmghHMiUg/AAAAAAAAAAI/AAAAAAAAGrA/RYlQGChf2so/s50-c-k-no/photo.jpg",
            "userId": "107448605714274358475"
          }
        }
      },
      "cell_type": "code",
      "source": [
        "sample = 5\n",
        "s = Solution()\n",
        "s.climbStairs2(5)"
      ],
      "execution_count": 15,
      "outputs": [
        {
          "output_type": "error",
          "ename": "AttributeError",
          "evalue": "ignored",
          "traceback": [
            "\u001b[0;31m\u001b[0m",
            "\u001b[0;31mAttributeError\u001b[0mTraceback (most recent call last)",
            "\u001b[0;32m<ipython-input-15-50b0410832d9>\u001b[0m in \u001b[0;36m<module>\u001b[0;34m()\u001b[0m\n\u001b[1;32m      1\u001b[0m \u001b[0msample\u001b[0m \u001b[0;34m=\u001b[0m \u001b[0;36m5\u001b[0m\u001b[0;34m\u001b[0m\u001b[0m\n\u001b[1;32m      2\u001b[0m \u001b[0ms\u001b[0m \u001b[0;34m=\u001b[0m \u001b[0mSolution\u001b[0m\u001b[0;34m(\u001b[0m\u001b[0;34m)\u001b[0m\u001b[0;34m\u001b[0m\u001b[0m\n\u001b[0;32m----> 3\u001b[0;31m \u001b[0ms\u001b[0m\u001b[0;34m.\u001b[0m\u001b[0mclimbStairs2\u001b[0m\u001b[0;34m(\u001b[0m\u001b[0;36m5\u001b[0m\u001b[0;34m)\u001b[0m\u001b[0;34m\u001b[0m\u001b[0m\n\u001b[0m",
            "\u001b[0;31mAttributeError\u001b[0m: Solution instance has no attribute 'climbStairs2'"
          ]
        }
      ]
    },
    {
      "metadata": {
        "id": "oTcS_Evw6hRs",
        "colab_type": "text"
      },
      "cell_type": "markdown",
      "source": [
        "## Triangle"
      ]
    },
    {
      "metadata": {
        "id": "PWwhkhGa6lRb",
        "colab_type": "text"
      },
      "cell_type": "markdown",
      "source": [
        "Description\n",
        "Given a triangle, find the minimum path sum from top to bottom. Each step you may move to adjacent numbers on the row below.\n",
        "\n",
        "Bonus point if you are able to do this using only O(n) extra space, where n is the total number of rows in the triangle.\n",
        "\n",
        "Have you met this question in a real interview?  \n",
        "Example\n",
        "Given the following triangle:\n",
        "\n",
        "[\n",
        "     [2],\n",
        "    [3,4],\n",
        "   [6,5,7],\n",
        "  [4,1,8,3]\n",
        "]\n",
        "The minimum path sum from top to bottom is 11 (i.e., 2 + 3 + 5 + 1 = 11)."
      ]
    },
    {
      "metadata": {
        "id": "cKOyfK2a0hdG",
        "colab_type": "code",
        "colab": {
          "autoexec": {
            "startup": false,
            "wait_interval": 0
          }
        }
      },
      "cell_type": "code",
      "source": [
        "class Solution:\n",
        "    \"\"\"\n",
        "    @param triangle: a list of lists of integers\n",
        "    @return: An integer, minimum path sum\n",
        "    \"\"\"\n",
        "    def minimumTotal(self, triangle):\n",
        "        if len(triangle) == 0 or len(triangle[0]) == 0:\n",
        "            return 0\n",
        "        m = len(triangle)\n",
        "        # dp[x][y] stands for position x, y mini sum, 0 indexed\n",
        "        dp = [[0 for j in range(i+1)] for i in range(m)]\n",
        "        dp[0][0] = triangle[0][0]\n",
        "        for x in range(1, m):\n",
        "            for y in range(x+1):\n",
        "                if y == 0:\n",
        "                    dp[x][y] = triangle[x][y] + dp[x - 1][y]\n",
        "                elif y == x:\n",
        "                    dp[x][y] = triangle[x][y] + dp[x-1][y-1]\n",
        "                else:\n",
        "                    dp[x][y] = triangle[x][y] + min(dp[x-1][y], dp[x-1][y-1])\n",
        "        print dp\n",
        "        return min(dp[m-1])"
      ],
      "execution_count": 0,
      "outputs": []
    },
    {
      "metadata": {
        "id": "mv3HWW8E6vBc",
        "colab_type": "code",
        "colab": {
          "autoexec": {
            "startup": false,
            "wait_interval": 0
          },
          "base_uri": "https://localhost:8080/",
          "height": 52
        },
        "outputId": "3a17ebdf-8c4e-49de-e26a-2e95fe7f4861",
        "executionInfo": {
          "status": "ok",
          "timestamp": 1525735600281,
          "user_tz": 240,
          "elapsed": 410,
          "user": {
            "displayName": "lizhicq",
            "photoUrl": "//lh4.googleusercontent.com/-R_dmghHMiUg/AAAAAAAAAAI/AAAAAAAAGrA/RYlQGChf2so/s50-c-k-no/photo.jpg",
            "userId": "107448605714274358475"
          }
        }
      },
      "cell_type": "code",
      "source": [
        "sample = [ [2], [3,4], [6,5,7], [4,1,8,3] ] \n",
        "s = Solution()\n",
        "s.minimumTotal(sample)"
      ],
      "execution_count": 23,
      "outputs": [
        {
          "output_type": "stream",
          "text": [
            "[[2], [5, 6], [11, 10, 13], [15, 11, 18, 16]]\n"
          ],
          "name": "stdout"
        },
        {
          "output_type": "execute_result",
          "data": {
            "text/plain": [
              "11"
            ]
          },
          "metadata": {
            "tags": []
          },
          "execution_count": 23
        }
      ]
    },
    {
      "metadata": {
        "id": "5jyniBqS7d3N",
        "colab_type": "text"
      },
      "cell_type": "markdown",
      "source": [
        "## Minimum Sum"
      ]
    },
    {
      "metadata": {
        "id": "DtmKnJ5D7ioW",
        "colab_type": "text"
      },
      "cell_type": "markdown",
      "source": [
        "Description\n",
        "Given a m x n grid filled with non-negative numbers, find a path from top left to bottom right which minimizes the sum of all numbers along its path."
      ]
    },
    {
      "metadata": {
        "id": "uDa8Rlyg7h2T",
        "colab_type": "code",
        "colab": {
          "autoexec": {
            "startup": false,
            "wait_interval": 0
          }
        }
      },
      "cell_type": "code",
      "source": [
        "class Solution:\n",
        "    \"\"\"\n",
        "    @param grid: a list of lists of integers\n",
        "    @return: An integer, minimizes the sum of all numbers along its path\n",
        "    \"\"\"\n",
        "    def minPathSum(self, grid):\n",
        "        if len(grid) == 0 or len(grid[0]) == 0:\n",
        "            return 0\n",
        "        m, n = len(grid), len(grid[0])\n",
        "        # dp[x][y] stands for position x, y mini path sum, 0 indexed\n",
        "        dp = [[0 for j in range(n)] for i in range(m)]\n",
        "        # dp init for dp[0][y], dp[x][0]\n",
        "        dp[0][0] = grid[0][0]\n",
        "        for i in range(1, m):\n",
        "            dp[i][0] = grid[i][0] + dp[i-1][0]\n",
        "        for j in range(1, n):\n",
        "            dp[0][j] = grid[0][j] + dp[0][j-1]\n",
        "\n",
        "        for i in range(1, m):\n",
        "            for j in range(1, n):\n",
        "                dp[i][j] = min(dp[i-1][j], dp[i][j-1]) + grid[i][j]\n",
        "        #print dp\n",
        "        return dp[m-1][n-1]"
      ],
      "execution_count": 0,
      "outputs": []
    },
    {
      "metadata": {
        "id": "2e7DMUlB7oA7",
        "colab_type": "code",
        "colab": {
          "autoexec": {
            "startup": false,
            "wait_interval": 0
          },
          "base_uri": "https://localhost:8080/",
          "height": 35
        },
        "outputId": "2a20895e-a281-48a1-f382-e2594b197b51",
        "executionInfo": {
          "status": "ok",
          "timestamp": 1525735716446,
          "user_tz": 240,
          "elapsed": 255,
          "user": {
            "displayName": "lizhicq",
            "photoUrl": "//lh4.googleusercontent.com/-R_dmghHMiUg/AAAAAAAAAAI/AAAAAAAAGrA/RYlQGChf2so/s50-c-k-no/photo.jpg",
            "userId": "107448605714274358475"
          }
        }
      },
      "cell_type": "code",
      "source": [
        "sample = [[1,2],[3,4]]\n",
        "s = Solution()\n",
        "s.minPathSum(sample)"
      ],
      "execution_count": 27,
      "outputs": [
        {
          "output_type": "execute_result",
          "data": {
            "text/plain": [
              "7"
            ]
          },
          "metadata": {
            "tags": []
          },
          "execution_count": 27
        }
      ]
    },
    {
      "metadata": {
        "id": "NrG1F5IsuFfF",
        "colab_type": "text"
      },
      "cell_type": "markdown",
      "source": [
        "# 接龙型动态规划"
      ]
    },
    {
      "metadata": {
        "id": "8yynzYn1GYGq",
        "colab_type": "text"
      },
      "cell_type": "markdown",
      "source": [
        "## Jump Game I, II \n",
        "\n",
        "\n",
        "**Jump Game I Description**\n",
        "\n",
        "Given an array of non-negative integers, you are initially positioned at the first index of the array.\n",
        "\n",
        "Each element in the array represents your maximum jump length at that position.\n",
        "\n",
        "Determine if you are able to reach the last index.\n",
        "\n",
        "his problem have two method which is Greedy and Dynamic Programming.\n",
        "\n",
        "The time complexity of Greedy method is O(n).\n",
        "\n",
        "The time complexity of Dynamic Programming method is O(n^2).\n",
        "\n",
        "We manually set the small data set to allow you pass the test in both ways. This is just to let you learn how to use this problem in dynamic programming ways. If you finish it in dynamic programming ways, you can try greedy method to make it accept again.\n",
        "\n",
        "\n",
        "\n",
        "```\n",
        "Example\n",
        "A = [2,3,1,1,4], return true.\n",
        "\n",
        "A = [3,2,1,0,4], return false.\n",
        "```\n",
        "\n",
        "**Jump Game II Description**\n",
        "\n",
        "Given an array of non-negative integers, you are initially positioned at the first index of the array.\n",
        "\n",
        "Each element in the array represents your maximum jump length at that position.\n",
        "\n",
        "Your goal is to reach the last index in the minimum number of jumps.\n",
        "\n",
        "```\n",
        "Example\n",
        "Given array A = [2,3,1,1,4]\n",
        "```\n",
        "\n",
        "\n",
        "\n",
        "The minimum number of jumps to reach the last index is 2. (Jump 1 step from index 0 to 1, then 3 steps to the last index.)\n"
      ]
    },
    {
      "metadata": {
        "id": "_zLHXRVAGxNO",
        "colab_type": "code",
        "colab": {
          "autoexec": {
            "startup": false,
            "wait_interval": 0
          }
        }
      },
      "cell_type": "code",
      "source": [
        "class Solution:\n",
        "    \"\"\"\n",
        "    @param A: A list of integers\n",
        "    @return: A boolean\n",
        "    \"\"\"\n",
        "    # Jump game I \n",
        "    def canJump(self, A):\n",
        "        if len(A) == 0:\n",
        "            return 0\n",
        "        maxJump, i = A[0], 0\n",
        "        count = 0\n",
        "        while i < len(A):\n",
        "            count += 1 \n",
        "            if maxJump >= len(A) - 1:\n",
        "                return True\n",
        "            if i <= maxJump:\n",
        "                maxJump = max(i+A[i], maxJump)\n",
        "                i += 1\n",
        "            if count > len(A):\n",
        "                return False\n",
        "    # Jump game II \n",
        "    def jump(self, A):\n",
        "        if len(A) == 0 or A[0] == 0:\n",
        "            return 0\n",
        "        if A[0] > len(A) - 1:\n",
        "            return 1\n",
        "        maxJmp, end, numJmp = A[0], A[0], 1\n",
        "        i = 1\n",
        "        while maxJmp < len(A) - 1:\n",
        "            if i <= end: # get maxJmp at the next time\n",
        "                maxJmp = max(maxJmp, i+A[i])\n",
        "                i += 1\n",
        "                continue\n",
        "            numJmp += 1\n",
        "            end = maxJmp\n",
        "        return numJmp+1"
      ],
      "execution_count": 0,
      "outputs": []
    },
    {
      "metadata": {
        "id": "3pJ6kzX1GdmH",
        "colab_type": "code",
        "colab": {
          "autoexec": {
            "startup": false,
            "wait_interval": 0
          },
          "base_uri": "https://localhost:8080/",
          "height": 70
        },
        "outputId": "2554f308-31db-4ec6-f829-555f48aa590c",
        "executionInfo": {
          "status": "ok",
          "timestamp": 1525823318654,
          "user_tz": 240,
          "elapsed": 264,
          "user": {
            "displayName": "lizhicq",
            "photoUrl": "//lh4.googleusercontent.com/-R_dmghHMiUg/AAAAAAAAAAI/AAAAAAAAGrA/RYlQGChf2so/s50-c-k-no/photo.jpg",
            "userId": "107448605714274358475"
          }
        }
      },
      "cell_type": "code",
      "source": [
        "s = Solution()\n",
        "print s.canJump([2,3,1,1,4])\n",
        "print s.canJump([1,2,3,4,5])\n",
        "print s.jump([1,2,3,4,5])"
      ],
      "execution_count": 22,
      "outputs": [
        {
          "output_type": "stream",
          "text": [
            "True\n",
            "True\n",
            "3\n"
          ],
          "name": "stdout"
        }
      ]
    },
    {
      "metadata": {
        "id": "vnI4NVX9uI7z",
        "colab_type": "text"
      },
      "cell_type": "markdown",
      "source": [
        "## Longest Increasing Subsequence\n",
        "Description\n",
        "Given a sequence of integers, find the longest increasing subsequence (LIS).\n",
        "\n",
        "You code should return the length of the LIS.\n",
        "\n",
        "\n",
        "Clarification\n",
        "What's the definition of longest increasing subsequence?\n",
        "\n",
        "The longest increasing subsequence problem is to find a subsequence of a given sequence in which the subsequence's elements are in sorted order, lowest to highest, and in which the subsequence is as long as possible. This subsequence is not necessarily contiguous, or unique.\n",
        "\n",
        "https://en.wikipedia.org/wiki/Longest_increasing_subsequence\n",
        "\n",
        "Example\n",
        "\n",
        "\n",
        "```\n",
        "For [5, 4, 1, 2, 3], the LIS is [1, 2, 3], return 3\n",
        "For [4, 2, 4, 5, 3, 7], the LIS is [2, 4, 5, 7], return 4\n",
        "```\n",
        "\n",
        "\n",
        "\n",
        "Challenge\n",
        "Time complexity O(n^2) or O(nlogn)"
      ]
    },
    {
      "metadata": {
        "id": "UKqoJm1NuUtb",
        "colab_type": "code",
        "colab": {
          "autoexec": {
            "startup": false,
            "wait_interval": 0
          }
        }
      },
      "cell_type": "code",
      "source": [
        "class Solution:\n",
        "    \"\"\"\n",
        "    @param nums: An integer array\n",
        "    @return: The length of LIS (longest increasing subsequence)\n",
        "    \"\"\"\n",
        "    \n",
        "    # O(n^2) method\n",
        "    def longestIncreasingSubsequence(self, nums):\n",
        "        if len(nums) <= 1:\n",
        "            return len(nums)\n",
        "        n = len(nums)\n",
        "        # dp[i] stands for len of LIS of dp[:i], 0 index\n",
        "        dp = [1 for i in range(n)]\n",
        "        for i in range(1, n):\n",
        "            for j in range(0, i):\n",
        "                if nums[j] < nums[i]:\n",
        "                    dp[i] = max(dp[i], dp[j] + 1) # dp function\n",
        "        return max(dp)\n",
        "    \n",
        "    # O(nlogn) method\n",
        "    def longestIncreasingSubsequence2(self, nums):\n",
        "        if not nums: return 0\n",
        "        dp = [1] * len(nums)\n",
        "        for curr, val in enumerate(nums):\n",
        "            for prev in xrange(curr):\n",
        "                if nums[prev] < val:\n",
        "                    dp[curr] = max(dp[curr], dp[prev] + 1)\n",
        "        return max(dp)"
      ],
      "execution_count": 0,
      "outputs": []
    },
    {
      "metadata": {
        "id": "QwgNalFVKMiI",
        "colab_type": "code",
        "colab": {
          "autoexec": {
            "startup": false,
            "wait_interval": 0
          },
          "base_uri": "https://localhost:8080/",
          "height": 52
        },
        "outputId": "aa230a1f-973e-40db-ea87-978673945415",
        "executionInfo": {
          "status": "ok",
          "timestamp": 1525824318189,
          "user_tz": 240,
          "elapsed": 3309,
          "user": {
            "displayName": "lizhicq",
            "photoUrl": "//lh4.googleusercontent.com/-R_dmghHMiUg/AAAAAAAAAAI/AAAAAAAAGrA/RYlQGChf2so/s50-c-k-no/photo.jpg",
            "userId": "107448605714274358475"
          }
        }
      },
      "cell_type": "code",
      "source": [
        "import random\n",
        "import timeit\n",
        "s = Solution()\n",
        "sample = random.sample(range(1000), 500)\n",
        "print timeit.timeit('s.longestIncreasingSubsequence(sample)',  \n",
        "                    setup='from __main__ import s, sample', number=100)\n",
        "print timeit.timeit('s.longestIncreasingSubsequence2(sample)', \n",
        "                    setup='from __main__ import s, sample', number=100)"
      ],
      "execution_count": 37,
      "outputs": [
        {
          "output_type": "stream",
          "text": [
            "1.6009478569\n",
            "1.43882703781\n"
          ],
          "name": "stdout"
        }
      ]
    },
    {
      "metadata": {
        "id": "7QllN7EmN24D",
        "colab_type": "text"
      },
      "cell_type": "markdown",
      "source": [
        "## Largest Divisible Subset\n",
        "\n",
        "Given a set of distinct positive integers, find the largest subset such that every pair (Si, Sj) of elements in this subset satisfies: Si % Sj = 0 or Sj % Si = 0.\n",
        "\n",
        "If there are multiple solutions, return any subset is fine.\n",
        "\n",
        "```  \n",
        "Example\n",
        "Given nums = [1,2,3], return [1,2] or [1,3]\n",
        "\n",
        "Given nums = [1,2,4,8], return [1,2,4,8]\n",
        "```\n"
      ]
    },
    {
      "metadata": {
        "id": "s80rg1LIN_WE",
        "colab_type": "code",
        "colab": {
          "autoexec": {
            "startup": false,
            "wait_interval": 0
          }
        }
      },
      "cell_type": "code",
      "source": [
        "class Solution:\n",
        "    \"\"\"\n",
        "    @param: nums: a set of distinct positive integers\n",
        "    @return: the largest subset\n",
        "    \"\"\"\n",
        "    def largestDivisibleSubset(self, nums):\n",
        "        # write your code here\n",
        "        if len(nums) <= 1:\n",
        "            return nums\n",
        "        n = len(nums)\n",
        "        nums.sort()\n",
        "        # dp[i] stands for len of LIS of dp[:i], 0 index\n",
        "        dp = [1 for i in range(n)]\n",
        "        father = [-1 for j in range(n)]\n",
        "        for i in range(1, n):\n",
        "            for j in range(0, i):\n",
        "                if nums[i] % nums[j] == 0:\n",
        "                    if dp[j] + 1 > dp[i]:\n",
        "                      dp[i] = max(dp[i], dp[j] + 1)\n",
        "                      father[i] = j\n",
        "        m = max(dp)\n",
        "        index = dp.index(m)\n",
        "        ans = []\n",
        "        for i in range(m, 0, -1):\n",
        "            ans.append(nums[index])\n",
        "            index = father[index]\n",
        "        return ans"
      ],
      "execution_count": 0,
      "outputs": []
    },
    {
      "metadata": {
        "id": "HjrUI6KoOMTU",
        "colab_type": "code",
        "colab": {
          "autoexec": {
            "startup": false,
            "wait_interval": 0
          },
          "base_uri": "https://localhost:8080/",
          "height": 52
        },
        "outputId": "3ddd2f56-4c34-44f9-c54b-c79815b9fcdd",
        "executionInfo": {
          "status": "ok",
          "timestamp": 1525824490812,
          "user_tz": 240,
          "elapsed": 245,
          "user": {
            "displayName": "lizhicq",
            "photoUrl": "//lh4.googleusercontent.com/-R_dmghHMiUg/AAAAAAAAAAI/AAAAAAAAGrA/RYlQGChf2so/s50-c-k-no/photo.jpg",
            "userId": "107448605714274358475"
          }
        }
      },
      "cell_type": "code",
      "source": [
        "s = Solution()\n",
        "sample = [1,2,3]\n",
        "print s.largestDivisibleSubset(sample)\n",
        "sample = [1,2,4,8]\n",
        "print s.largestDivisibleSubset(sample)"
      ],
      "execution_count": 40,
      "outputs": [
        {
          "output_type": "stream",
          "text": [
            "[2, 1]\n",
            "[8, 4, 2, 1]\n"
          ],
          "name": "stdout"
        }
      ]
    },
    {
      "metadata": {
        "id": "8Sq2O8gNOlIL",
        "colab_type": "text"
      },
      "cell_type": "markdown",
      "source": [
        "## Russian Doll Envelopes\n",
        "\n",
        "Description\n",
        "You have a number of envelopes with widths and heights given as a pair of integers (w, h). One envelope can fit into another if and only if both the width and height of one envelope is greater than the width and height of the other envelope.\n",
        "\n",
        "What is the maximum number of envelopes can you Russian doll? (put one inside other)\n",
        "\n",
        "```\n",
        "Example\n",
        "Given envelopes = [[5,4],[6,4],[6,7],[2,3]],\n",
        "the maximum number of envelopes you can Russian doll is 3 ([2,3] => [5,4] => [6,7]).\n",
        "```"
      ]
    },
    {
      "metadata": {
        "id": "XBw0-QvXOzGN",
        "colab_type": "code",
        "colab": {
          "autoexec": {
            "startup": false,
            "wait_interval": 0
          }
        }
      },
      "cell_type": "code",
      "source": [
        "class Solution:\n",
        "    \"\"\"\n",
        "    @param: envelopes: a number of envelopes with widths and heights\n",
        "    @return: the maximum number of envelopes\n",
        "    \"\"\"\n",
        "    def maxEnvelopes(self, envelopes):\n",
        "        if len(envelopes) <= 1:\n",
        "            return len(envelopes)\n",
        "        envelopes.sort() # default to sort with key1, [key1,key2]\n",
        "        n = len(envelopes)\n",
        "        # dp[i] stands for len of LIS of dp[:i], 0 index\n",
        "        dp = [1 for i in range(n)]\n",
        "        for i in range(1, n):\n",
        "            for j in range(0, i):\n",
        "                if envelopes[j][1] < envelopes[i][1] and envelopes[j][0] < envelopes[i][0]:\n",
        "                    dp[i] = max(dp[i], dp[j] + 1)  # dp function\n",
        "        return max(dp)"
      ],
      "execution_count": 0,
      "outputs": []
    },
    {
      "metadata": {
        "id": "SFH49whVOtpV",
        "colab_type": "code",
        "colab": {
          "autoexec": {
            "startup": false,
            "wait_interval": 0
          },
          "base_uri": "https://localhost:8080/",
          "height": 35
        },
        "outputId": "e16248ee-04a5-44bb-9185-54b4c7b1c474",
        "executionInfo": {
          "status": "ok",
          "timestamp": 1525824634434,
          "user_tz": 240,
          "elapsed": 242,
          "user": {
            "displayName": "lizhicq",
            "photoUrl": "//lh4.googleusercontent.com/-R_dmghHMiUg/AAAAAAAAAAI/AAAAAAAAGrA/RYlQGChf2so/s50-c-k-no/photo.jpg",
            "userId": "107448605714274358475"
          }
        }
      },
      "cell_type": "code",
      "source": [
        "sample = [[3419,8423],[164,2627],[3139,7517],[1751,4154],[9489,86],[6637,3814],\n",
        "          [8056,4472],[1361,7808],[8951,7291],[2729,3128],[3981,8815],[492,3230],\n",
        "          [8077,8257],[1046,8951],[7601,3995],[8077,2335],[7913,6100],[2120,552],\n",
        "          [8052,7377],[3699,4314],[4956,9383],[1398,9645],[5612,3194],[1041,7969],\n",
        "          [9353,9504],[3498,6074],[3778,6387],[6444,926],[8188,3068],[7573,9346],\n",
        "          [1947,2744],[3161,1583],[6931,2466],[3123,2746],[3063,9465],[5436,4950],\n",
        "          [2706,2321],[705,4817],[6848,3079],[7513,2377],[3314,3572],[1932,2535],\n",
        "          [2635,6677],[31,1250],[3553,3075],[8978,2303],[6216,5277],[6544,5712],\n",
        "          [8566,6145],[3541,9898],[7554,842],[1566,7443],[3891,2823],[8698,8532],\n",
        "          [1692,6859],[4094,8342],[5207,9744],[3020,3461],[4752,6631],[2033,1323],\n",
        "          [6094,3315],[16,8209],[3776,2627],[8889,2818],[755,2167],[9267,8809],\n",
        "          [9701,777],[9464,9921],[2657,9329],[8606,8059],[6912,9454],[133,6606],\n",
        "          [7149,5042],[7765,6180],[5361,4592],[7149,1438],[847,9109],[732,786],\n",
        "          [9824,548],[9833,2443],[9920,232],[9957,8386],[1792,5312],[2950,3834],\n",
        "          [3650,7948],[900,5644],[9741,7375]]\n",
        "s = Solution()\n",
        "s.maxEnvelopes(sample)\n"
      ],
      "execution_count": 46,
      "outputs": [
        {
          "output_type": "execute_result",
          "data": {
            "text/plain": [
              "19"
            ]
          },
          "metadata": {
            "tags": []
          },
          "execution_count": 46
        }
      ]
    }
  ]
}
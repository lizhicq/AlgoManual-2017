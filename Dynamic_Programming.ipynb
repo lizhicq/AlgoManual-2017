{
  "nbformat": 4,
  "nbformat_minor": 0,
  "metadata": {
    "colab": {
      "name": "Dynamic Programming.ipynb",
      "version": "0.3.2",
      "provenance": [],
      "collapsed_sections": [],
      "toc_visible": true
    },
    "kernelspec": {
      "name": "python2",
      "display_name": "Python 2"
    }
  },
  "cells": [
    {
      "cell_type": "markdown",
      "metadata": {
        "id": "view-in-github",
        "colab_type": "text"
      },
      "source": [
        "[View in Colaboratory](https://colab.research.google.com/github/lizhicq/Lintcode/blob/master/Dynamic_Programming.ipynb)"
      ]
    },
    {
      "metadata": {
        "id": "JF1PH6BYyFqc",
        "colab_type": "text"
      },
      "cell_type": "markdown",
      "source": [
        "# Unique Path I, II"
      ]
    },
    {
      "metadata": {
        "id": "rCshAYNFyNWn",
        "colab_type": "text"
      },
      "cell_type": "markdown",
      "source": [
        "A robot is located at the top-left corner of a m x n grid.\n",
        "\n",
        "The robot can only move either down or right at any point in time. The robot is trying to reach the bottom-right corner of the grid.\n",
        "\n",
        "How many possible unique paths are there?\n",
        "\n",
        "\n",
        "Given m = 3 and n = 3, return 6.\n",
        "Given m = 4 and n = 5, return 35."
      ]
    },
    {
      "metadata": {
        "id": "fC488BXGyQx-",
        "colab_type": "code",
        "colab": {}
      },
      "cell_type": "code",
      "source": [
        "class Solution:\n",
        "    \"\"\"\n",
        "    @param m: positive integer (1 <= m <= 100)\n",
        "    @param n: positive integer (1 <= n <= 100)\n",
        "    @return: An integer\n",
        "    \"\"\"\n",
        "    def uniquePaths(self, m, n):\n",
        "        dp = [[1 for _ in range(n)] for __ in range(m)]\n",
        "        for x in range(1, m):\n",
        "            for y in range(1, n):\n",
        "                dp[x][y] = dp[x-1][y] + dp[x][y-1]\n",
        "        return dp[m-1][n-1]"
      ],
      "execution_count": 0,
      "outputs": []
    },
    {
      "metadata": {
        "id": "CM7zBsciya5u",
        "colab_type": "code",
        "colab": {
          "base_uri": "https://localhost:8080/",
          "height": 34
        },
        "outputId": "43bb612a-d0c8-4850-c3ee-627955598377"
      },
      "cell_type": "code",
      "source": [
        "sample = [3,3]\n",
        "s = Solution()\n",
        "s.uniquePaths(sample[0], sample[1])"
      ],
      "execution_count": 5,
      "outputs": [
        {
          "output_type": "execute_result",
          "data": {
            "text/plain": [
              "6"
            ]
          },
          "metadata": {
            "tags": []
          },
          "execution_count": 5
        }
      ]
    },
    {
      "metadata": {
        "id": "5Av7z5CAy0DB",
        "colab_type": "text"
      },
      "cell_type": "markdown",
      "source": [
        "Follow up for \"Unique Paths\":\n",
        "\n",
        "Now consider if some obstacles are added to the grids. How many unique paths would there be?\n",
        "\n",
        "An obstacle and empty space is marked as 1 and 0 respectively in the grid.\n",
        "\n",
        "For example,\n",
        "There is one obstacle in the middle of a 3x3 grid as illustrated below.\n",
        "\n",
        "[\n",
        "  [0,0,0],\n",
        "  [0,1,0],\n",
        "  [0,0,0]\n",
        "]"
      ]
    },
    {
      "metadata": {
        "id": "FJZ9OICay_N2",
        "colab_type": "code",
        "colab": {}
      },
      "cell_type": "code",
      "source": [
        "class Solution:\n",
        "    \"\"\"\n",
        "    @param obstacleGrid: A list of lists of integers\n",
        "    @return: An integer\n",
        "    \"\"\"\n",
        "    def uniquePathsWithObstacles(self, obstacleGrid):\n",
        "        if len(obstacleGrid) == 0 or len(obstacleGrid[0]) == 0:\n",
        "            return 0\n",
        "        m, n = len(obstacleGrid), len(obstacleGrid[0])\n",
        "        dp = [[0 for _ in range(n)] for __ in range(m)]\n",
        "        # dp[x][y] stands for pos x, y unique path numbers, 0 indexed\n",
        "        # init dp[x][0] = 1 and dp[0][y] = 1\n",
        "\n",
        "        for i in range(m):\n",
        "            if obstacleGrid[i][0] == 0:\n",
        "                dp[i][0] = 1\n",
        "                continue\n",
        "            break\n",
        "        for j in range(n):\n",
        "            if obstacleGrid[0][j] == 0:\n",
        "                dp[0][j] = 1\n",
        "                continue\n",
        "            break\n",
        "\n",
        "        for x in range(1, m):\n",
        "            for y in range(1, n):\n",
        "                dp[x][y] = dp[x-1][y] + dp[x][y-1] if obstacleGrid[x][y] == 0 else 0\n",
        "\n",
        "#        print dp\n",
        "        return dp[m-1][n-1]"
      ],
      "execution_count": 0,
      "outputs": []
    },
    {
      "metadata": {
        "id": "PU1LhBwmyyQN",
        "colab_type": "code",
        "colab": {
          "base_uri": "https://localhost:8080/",
          "height": 34
        },
        "outputId": "9b961a42-5391-43d3-81cb-726b0abf5106"
      },
      "cell_type": "code",
      "source": [
        "sample = [ [0,0,0], [0,1,0], [0,0,0] ]\n",
        "s = Solution()\n",
        "s.uniquePathsWithObstacles(sample)"
      ],
      "execution_count": 9,
      "outputs": [
        {
          "output_type": "execute_result",
          "data": {
            "text/plain": [
              "2"
            ]
          },
          "metadata": {
            "tags": []
          },
          "execution_count": 9
        }
      ]
    },
    {
      "metadata": {
        "id": "8-veu44AzpHb",
        "colab_type": "text"
      },
      "cell_type": "markdown",
      "source": [
        "# Climbing Stairs I, II"
      ]
    },
    {
      "metadata": {
        "id": "bJtPTbFLzwcC",
        "colab_type": "text"
      },
      "cell_type": "markdown",
      "source": [
        "You are climbing a stair case. It takes n steps to reach to the top.\n",
        "\n",
        "Each time you can either climb 1 or 2 steps. In how many distinct ways can you climb to the top?\n",
        "\n",
        "Have you met this question in a real interview?  \n",
        "Example\n",
        "Given an example n=3 , 1+1+1=2+1=1+2=3\n",
        "\n",
        "return 3"
      ]
    },
    {
      "metadata": {
        "id": "s_lphjxmzn3O",
        "colab_type": "code",
        "colab": {}
      },
      "cell_type": "code",
      "source": [
        "class Solution:\n",
        "    \"\"\"\n",
        "    @param n: An integer\n",
        "    @return: An integer\n",
        "    \"\"\"\n",
        "    def climbStairs(self, n):\n",
        "        if n == 0:\n",
        "            return 0\n",
        "        dp = [1 for _ in range(n+1)] \n",
        "        # init dp[1], dp[2] 1 index based \n",
        "        \n",
        "        for i in range(2,n+1):\n",
        "            dp[i] = dp[i-1] + dp[i-2]\n",
        "        return dp[n]"
      ],
      "execution_count": 0,
      "outputs": []
    },
    {
      "metadata": {
        "id": "pMmLnWONzY2m",
        "colab_type": "code",
        "colab": {
          "base_uri": "https://localhost:8080/",
          "height": 34
        },
        "outputId": "e70ef7cd-af29-401d-9b4f-22ddbd264b9c"
      },
      "cell_type": "code",
      "source": [
        "sample = 5\n",
        "s = Solution()\n",
        "print s.climbStairs(sample)"
      ],
      "execution_count": 12,
      "outputs": [
        {
          "output_type": "stream",
          "text": [
            "8\n"
          ],
          "name": "stdout"
        }
      ]
    },
    {
      "metadata": {
        "id": "CB8VMP7l6f6U",
        "colab_type": "text"
      },
      "cell_type": "markdown",
      "source": [
        "Description\n",
        "A child is running up a staircase with n steps, and can hop either 1 step, 2 steps, or 3 steps at a time. Implement a method to count how many possible ways the child can run up the stairs.\n",
        "\n",
        "Have you met this question in a real interview?  \n",
        "Example\n",
        "n=3\n",
        "1+1+1=2+1=1+2=3=3\n",
        "\n",
        "return 4"
      ]
    },
    {
      "metadata": {
        "id": "i9_Nhv_J616T",
        "colab_type": "code",
        "colab": {}
      },
      "cell_type": "code",
      "source": [
        "class Solution:\n",
        "    \"\"\"\n",
        "    @param n: An integer\n",
        "    @return: An Integer\n",
        "    \"\"\"\n",
        "    def climbStairs2(self, n):\n",
        "        if n == 0:\n",
        "            return 1\n",
        "        if n <= 2:\n",
        "            return n\n",
        "        dp = [1 for _ in range(n+1)]\n",
        "        dp[2] = 2\n",
        "        for i in range(3, n+1):\n",
        "            dp[i] = dp[i-1] + dp[i-2] + dp[i-3]\n",
        "        return dp[n]"
      ],
      "execution_count": 0,
      "outputs": []
    },
    {
      "metadata": {
        "id": "zfX1aYOC64ya",
        "colab_type": "code",
        "colab": {
          "base_uri": "https://localhost:8080/",
          "height": 201
        },
        "outputId": "7a66757d-1c71-45a2-f4c5-4e8c1bc5ae13"
      },
      "cell_type": "code",
      "source": [
        "sample = 5\n",
        "s = Solution()\n",
        "s.climbStairs2(5)"
      ],
      "execution_count": 15,
      "outputs": [
        {
          "output_type": "error",
          "ename": "AttributeError",
          "evalue": "ignored",
          "traceback": [
            "\u001b[0;31m\u001b[0m",
            "\u001b[0;31mAttributeError\u001b[0mTraceback (most recent call last)",
            "\u001b[0;32m<ipython-input-15-50b0410832d9>\u001b[0m in \u001b[0;36m<module>\u001b[0;34m()\u001b[0m\n\u001b[1;32m      1\u001b[0m \u001b[0msample\u001b[0m \u001b[0;34m=\u001b[0m \u001b[0;36m5\u001b[0m\u001b[0;34m\u001b[0m\u001b[0m\n\u001b[1;32m      2\u001b[0m \u001b[0ms\u001b[0m \u001b[0;34m=\u001b[0m \u001b[0mSolution\u001b[0m\u001b[0;34m(\u001b[0m\u001b[0;34m)\u001b[0m\u001b[0;34m\u001b[0m\u001b[0m\n\u001b[0;32m----> 3\u001b[0;31m \u001b[0ms\u001b[0m\u001b[0;34m.\u001b[0m\u001b[0mclimbStairs2\u001b[0m\u001b[0;34m(\u001b[0m\u001b[0;36m5\u001b[0m\u001b[0;34m)\u001b[0m\u001b[0;34m\u001b[0m\u001b[0m\n\u001b[0m",
            "\u001b[0;31mAttributeError\u001b[0m: Solution instance has no attribute 'climbStairs2'"
          ]
        }
      ]
    },
    {
      "metadata": {
        "id": "oTcS_Evw6hRs",
        "colab_type": "text"
      },
      "cell_type": "markdown",
      "source": [
        "# Triangle"
      ]
    },
    {
      "metadata": {
        "id": "PWwhkhGa6lRb",
        "colab_type": "text"
      },
      "cell_type": "markdown",
      "source": [
        "Description\n",
        "Given a triangle, find the minimum path sum from top to bottom. Each step you may move to adjacent numbers on the row below.\n",
        "\n",
        "Bonus point if you are able to do this using only O(n) extra space, where n is the total number of rows in the triangle.\n",
        "\n",
        "Have you met this question in a real interview?  \n",
        "Example\n",
        "Given the following triangle:\n",
        "\n",
        "[\n",
        "     [2],\n",
        "    [3,4],\n",
        "   [6,5,7],\n",
        "  [4,1,8,3]\n",
        "]\n",
        "The minimum path sum from top to bottom is 11 (i.e., 2 + 3 + 5 + 1 = 11)."
      ]
    },
    {
      "metadata": {
        "id": "cKOyfK2a0hdG",
        "colab_type": "code",
        "colab": {}
      },
      "cell_type": "code",
      "source": [
        "class Solution:\n",
        "    \"\"\"\n",
        "    @param triangle: a list of lists of integers\n",
        "    @return: An integer, minimum path sum\n",
        "    \"\"\"\n",
        "    def minimumTotal(self, triangle):\n",
        "        if len(triangle) == 0 or len(triangle[0]) == 0:\n",
        "            return 0\n",
        "        m = len(triangle)\n",
        "        # dp[x][y] stands for position x, y mini sum, 0 indexed\n",
        "        dp = [[0 for j in range(i+1)] for i in range(m)]\n",
        "        dp[0][0] = triangle[0][0]\n",
        "        for x in range(1, m):\n",
        "            for y in range(x+1):\n",
        "                if y == 0:\n",
        "                    dp[x][y] = triangle[x][y] + dp[x - 1][y]\n",
        "                elif y == x:\n",
        "                    dp[x][y] = triangle[x][y] + dp[x-1][y-1]\n",
        "                else:\n",
        "                    dp[x][y] = triangle[x][y] + min(dp[x-1][y], dp[x-1][y-1])\n",
        "        print dp\n",
        "        return min(dp[m-1])"
      ],
      "execution_count": 0,
      "outputs": []
    },
    {
      "metadata": {
        "id": "mv3HWW8E6vBc",
        "colab_type": "code",
        "colab": {
          "base_uri": "https://localhost:8080/",
          "height": 52
        },
        "outputId": "3a17ebdf-8c4e-49de-e26a-2e95fe7f4861"
      },
      "cell_type": "code",
      "source": [
        "sample = [ [2], [3,4], [6,5,7], [4,1,8,3] ] \n",
        "s = Solution()\n",
        "s.minimumTotal(sample)"
      ],
      "execution_count": 23,
      "outputs": [
        {
          "output_type": "stream",
          "text": [
            "[[2], [5, 6], [11, 10, 13], [15, 11, 18, 16]]\n"
          ],
          "name": "stdout"
        },
        {
          "output_type": "execute_result",
          "data": {
            "text/plain": [
              "11"
            ]
          },
          "metadata": {
            "tags": []
          },
          "execution_count": 23
        }
      ]
    },
    {
      "metadata": {
        "id": "5jyniBqS7d3N",
        "colab_type": "text"
      },
      "cell_type": "markdown",
      "source": [
        "# Minimum Sum"
      ]
    },
    {
      "metadata": {
        "id": "DtmKnJ5D7ioW",
        "colab_type": "text"
      },
      "cell_type": "markdown",
      "source": [
        "Description\n",
        "Given a m x n grid filled with non-negative numbers, find a path from top left to bottom right which minimizes the sum of all numbers along its path."
      ]
    },
    {
      "metadata": {
        "id": "uDa8Rlyg7h2T",
        "colab_type": "code",
        "colab": {}
      },
      "cell_type": "code",
      "source": [
        "class Solution:\n",
        "    \"\"\"\n",
        "    @param grid: a list of lists of integers\n",
        "    @return: An integer, minimizes the sum of all numbers along its path\n",
        "    \"\"\"\n",
        "    def minPathSum(self, grid):\n",
        "        if len(grid) == 0 or len(grid[0]) == 0:\n",
        "            return 0\n",
        "        m, n = len(grid), len(grid[0])\n",
        "        # dp[x][y] stands for position x, y mini path sum, 0 indexed\n",
        "        dp = [[0 for j in range(n)] for i in range(m)]\n",
        "        # dp init for dp[0][y], dp[x][0]\n",
        "        dp[0][0] = grid[0][0]\n",
        "        for i in range(1, m):\n",
        "            dp[i][0] = grid[i][0] + dp[i-1][0]\n",
        "        for j in range(1, n):\n",
        "            dp[0][j] = grid[0][j] + dp[0][j-1]\n",
        "\n",
        "        for i in range(1, m):\n",
        "            for j in range(1, n):\n",
        "                dp[i][j] = min(dp[i-1][j], dp[i][j-1]) + grid[i][j]\n",
        "        #print dp\n",
        "        return dp[m-1][n-1]"
      ],
      "execution_count": 0,
      "outputs": []
    },
    {
      "metadata": {
        "id": "2e7DMUlB7oA7",
        "colab_type": "code",
        "colab": {
          "base_uri": "https://localhost:8080/",
          "height": 35
        },
        "outputId": "2a20895e-a281-48a1-f382-e2594b197b51"
      },
      "cell_type": "code",
      "source": [
        "sample = [[1,2],[3,4]]\n",
        "s = Solution()\n",
        "s.minPathSum(sample)"
      ],
      "execution_count": 27,
      "outputs": [
        {
          "output_type": "execute_result",
          "data": {
            "text/plain": [
              "7"
            ]
          },
          "metadata": {
            "tags": []
          },
          "execution_count": 27
        }
      ]
    }
  ]
}
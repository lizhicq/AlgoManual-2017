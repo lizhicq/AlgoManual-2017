{
  "nbformat": 4,
  "nbformat_minor": 0,
  "metadata": {
    "colab": {
      "name": "Dynamic Programming.ipynb",
      "version": "0.3.2",
      "provenance": [],
      "collapsed_sections": [
        "Ui-_FBhCt56j",
        "JF1PH6BYyFqc",
        "8-veu44AzpHb",
        "oTcS_Evw6hRs",
        "5jyniBqS7d3N",
        "NrG1F5IsuFfF",
        "zE3K2JxeOUMJ"
      ]
    },
    "kernelspec": {
      "name": "python2",
      "display_name": "Python 2"
    }
  },
  "cells": [
    {
      "cell_type": "markdown",
      "metadata": {
        "id": "view-in-github",
        "colab_type": "text"
      },
      "source": [
        "[View in Colaboratory](https://colab.research.google.com/github/lizhicq/Lintcode-2018/blob/master/Dynamic_Programming.ipynb)"
      ]
    },
    {
      "metadata": {
        "id": "krmlDe01oDwX",
        "colab_type": "text"
      },
      "cell_type": "markdown",
      "source": [
        "# 综述\n",
        "**什么情况下使用动态规划？**\n",
        "\n",
        "\n",
        "\n",
        ">满足下面三个条件之一，极有可能使用动态规划 90% - 95%：\n",
        "\t1. 求最大值，最小值\n",
        "\t2. 判断是否可行\n",
        "\t3. 统计方案个数\n",
        "极不可能使用动态规划的情况：\n",
        "\t1. 求出所有具体的方案而非方案的个数\n",
        "\t2. 输入数据是一个集合而不是序列\n",
        "\t3. 暴力的算法已经是多项式级别\n",
        "\n",
        ">总结：最大值最小值/是否可行/方案总数\n",
        "求所有方案/集合而不是序列/指数级到多项式\n",
        "\n",
        "\n",
        "**动态规划的 4 点要素**\n",
        "1. 状态 State\n",
        "\t灵感，创造⼒，存储小规模问题的结果\n",
        "\t\t○ 最优解 / Maximum / Minimum\n",
        "\t\t○ Yes / No\n",
        "\t\t○ Count(*)\n",
        "2. 状态转移方程 Function\n",
        "\t状态之间的联系，怎么通过⼩的状态，来求得⼤的状态\n",
        "3. 初始化 Intialization\n",
        "\t最极限的小状态是什么，起点\n",
        "4. 答案 Answer\n",
        "\t最⼤的那个状态是什么，终点\n",
        "  \n",
        "  \n",
        "  \n",
        "  \n",
        " **面试常见的动态规划类别及状态特点**\n",
        ">坐标型\n",
        "\n",
        ">接龙型 (单序列,双序列)\n",
        "\n",
        ">划分型\n",
        "\n",
        ">背包型 (背包九讲)\n",
        "\n",
        ">博弈型\n",
        "\n",
        "**两招独孤九剑**\n",
        ">二维DP需要初始化第0行和第0列\n",
        "\n",
        ">n个字符的字符串要开n+1个位置的数组\n"
      ]
    },
    {
      "metadata": {
        "id": "Ui-_FBhCt56j",
        "colab_type": "text"
      },
      "cell_type": "markdown",
      "source": [
        "# 坐标型动态规划\n",
        "\n",
        "\t1. state:\n",
        "\t\t○ f[x] 表示我从起点走到坐标x……\n",
        "\t\t○ f[x][y] 表示我从起点走到坐标x,y……\n",
        "\t2. function: 研究走到x,y这个点之前的一步\n",
        "\t3. initialize: 起点\n",
        "\t4. answer: 终点\n",
        "\n",
        "\n"
      ]
    },
    {
      "metadata": {
        "id": "JF1PH6BYyFqc",
        "colab_type": "text"
      },
      "cell_type": "markdown",
      "source": [
        "## Unique Path I, II"
      ]
    },
    {
      "metadata": {
        "id": "rCshAYNFyNWn",
        "colab_type": "text"
      },
      "cell_type": "markdown",
      "source": [
        "A robot is located at the top-left corner of a m x n grid.\n",
        "\n",
        "The robot can only move either down or right at any point in time. The robot is trying to reach the bottom-right corner of the grid.\n",
        "\n",
        "How many possible unique paths are there?\n",
        "\n",
        "\n",
        "Given m = 3 and n = 3, return 6.\n",
        "Given m = 4 and n = 5, return 35."
      ]
    },
    {
      "metadata": {
        "id": "fC488BXGyQx-",
        "colab_type": "code",
        "colab": {}
      },
      "cell_type": "code",
      "source": [
        "class Solution:\n",
        "    \"\"\"\n",
        "    @param m: positive integer (1 <= m <= 100)\n",
        "    @param n: positive integer (1 <= n <= 100)\n",
        "    @return: An integer\n",
        "    \"\"\"\n",
        "    def uniquePaths(self, m, n):\n",
        "        dp = [[1 for _ in range(n)] for __ in range(m)]\n",
        "        for x in range(1, m):\n",
        "            for y in range(1, n):\n",
        "                dp[x][y] = dp[x-1][y] + dp[x][y-1]\n",
        "        return dp[m-1][n-1]"
      ],
      "execution_count": 0,
      "outputs": []
    },
    {
      "metadata": {
        "id": "CM7zBsciya5u",
        "colab_type": "code",
        "colab": {
          "base_uri": "https://localhost:8080/",
          "height": 34
        },
        "outputId": "43bb612a-d0c8-4850-c3ee-627955598377"
      },
      "cell_type": "code",
      "source": [
        "sample = [3,3]\n",
        "s = Solution()\n",
        "s.uniquePaths(sample[0], sample[1])"
      ],
      "execution_count": 0,
      "outputs": [
        {
          "output_type": "execute_result",
          "data": {
            "text/plain": [
              "6"
            ]
          },
          "metadata": {
            "tags": []
          },
          "execution_count": 5
        }
      ]
    },
    {
      "metadata": {
        "id": "5Av7z5CAy0DB",
        "colab_type": "text"
      },
      "cell_type": "markdown",
      "source": [
        "Follow up for \"Unique Paths\":\n",
        "\n",
        "Now consider if some obstacles are added to the grids. How many unique paths would there be?\n",
        "\n",
        "An obstacle and empty space is marked as 1 and 0 respectively in the grid.\n",
        "\n",
        "For example,\n",
        "There is one obstacle in the middle of a 3x3 grid as illustrated below.\n",
        "\n",
        "[\n",
        "  [0,0,0],\n",
        "  [0,1,0],\n",
        "  [0,0,0]\n",
        "]"
      ]
    },
    {
      "metadata": {
        "id": "FJZ9OICay_N2",
        "colab_type": "code",
        "colab": {}
      },
      "cell_type": "code",
      "source": [
        "class Solution:\n",
        "    \"\"\"\n",
        "    @param obstacleGrid: A list of lists of integers\n",
        "    @return: An integer\n",
        "    \"\"\"\n",
        "    def uniquePathsWithObstacles(self, obstacleGrid):\n",
        "        if len(obstacleGrid) == 0 or len(obstacleGrid[0]) == 0:\n",
        "            return 0\n",
        "        m, n = len(obstacleGrid), len(obstacleGrid[0])\n",
        "        dp = [[0 for _ in range(n)] for __ in range(m)]\n",
        "        # dp[x][y] stands for pos x, y unique path numbers, 0 indexed\n",
        "        # init dp[x][0] = 1 and dp[0][y] = 1\n",
        "\n",
        "        for i in range(m):\n",
        "            if obstacleGrid[i][0] == 0:\n",
        "                dp[i][0] = 1\n",
        "                continue\n",
        "            break\n",
        "        for j in range(n):\n",
        "            if obstacleGrid[0][j] == 0:\n",
        "                dp[0][j] = 1\n",
        "                continue\n",
        "            break\n",
        "\n",
        "        for x in range(1, m):\n",
        "            for y in range(1, n):\n",
        "                dp[x][y] = dp[x-1][y] + dp[x][y-1] if obstacleGrid[x][y] == 0 else 0\n",
        "\n",
        "#        print dp\n",
        "        return dp[m-1][n-1]"
      ],
      "execution_count": 0,
      "outputs": []
    },
    {
      "metadata": {
        "id": "PU1LhBwmyyQN",
        "colab_type": "code",
        "colab": {
          "base_uri": "https://localhost:8080/",
          "height": 34
        },
        "outputId": "9b961a42-5391-43d3-81cb-726b0abf5106"
      },
      "cell_type": "code",
      "source": [
        "sample = [ [0,0,0], [0,1,0], [0,0,0] ]\n",
        "s = Solution()\n",
        "s.uniquePathsWithObstacles(sample)"
      ],
      "execution_count": 0,
      "outputs": [
        {
          "output_type": "execute_result",
          "data": {
            "text/plain": [
              "2"
            ]
          },
          "metadata": {
            "tags": []
          },
          "execution_count": 9
        }
      ]
    },
    {
      "metadata": {
        "id": "8-veu44AzpHb",
        "colab_type": "text"
      },
      "cell_type": "markdown",
      "source": [
        "## Climbing Stairs I, II"
      ]
    },
    {
      "metadata": {
        "id": "bJtPTbFLzwcC",
        "colab_type": "text"
      },
      "cell_type": "markdown",
      "source": [
        "You are climbing a stair case. It takes n steps to reach to the top.\n",
        "\n",
        "Each time you can either climb 1 or 2 steps. In how many distinct ways can you climb to the top?\n",
        "\n",
        "Have you met this question in a real interview?  \n",
        "Example\n",
        "Given an example n=3 , 1+1+1=2+1=1+2=3\n",
        "\n",
        "return 3"
      ]
    },
    {
      "metadata": {
        "id": "s_lphjxmzn3O",
        "colab_type": "code",
        "colab": {}
      },
      "cell_type": "code",
      "source": [
        "class Solution:\n",
        "    \"\"\"\n",
        "    @param n: An integer\n",
        "    @return: An integer\n",
        "    \"\"\"\n",
        "    def climbStairs(self, n):\n",
        "        if n == 0:\n",
        "            return 0\n",
        "        dp = [1 for _ in range(n+1)] \n",
        "        # init dp[1], dp[2] 1 index based \n",
        "        \n",
        "        for i in range(2,n+1):\n",
        "            dp[i] = dp[i-1] + dp[i-2]\n",
        "        return dp[n]"
      ],
      "execution_count": 0,
      "outputs": []
    },
    {
      "metadata": {
        "id": "pMmLnWONzY2m",
        "colab_type": "code",
        "colab": {
          "base_uri": "https://localhost:8080/",
          "height": 34
        },
        "outputId": "e70ef7cd-af29-401d-9b4f-22ddbd264b9c"
      },
      "cell_type": "code",
      "source": [
        "sample = 5\n",
        "s = Solution()\n",
        "print s.climbStairs(sample)"
      ],
      "execution_count": 0,
      "outputs": [
        {
          "output_type": "stream",
          "text": [
            "8\n"
          ],
          "name": "stdout"
        }
      ]
    },
    {
      "metadata": {
        "id": "CB8VMP7l6f6U",
        "colab_type": "text"
      },
      "cell_type": "markdown",
      "source": [
        "Description\n",
        "A child is running up a staircase with n steps, and can hop either 1 step, 2 steps, or 3 steps at a time. Implement a method to count how many possible ways the child can run up the stairs.\n",
        "\n",
        "Have you met this question in a real interview?  \n",
        "Example\n",
        "n=3\n",
        "1+1+1=2+1=1+2=3=3\n",
        "\n",
        "return 4"
      ]
    },
    {
      "metadata": {
        "id": "i9_Nhv_J616T",
        "colab_type": "code",
        "colab": {}
      },
      "cell_type": "code",
      "source": [
        "class Solution:\n",
        "    \"\"\"\n",
        "    @param n: An integer\n",
        "    @return: An Integer\n",
        "    \"\"\"\n",
        "    def climbStairs2(self, n):\n",
        "        if n == 0:\n",
        "            return 1\n",
        "        if n <= 2:\n",
        "            return n\n",
        "        dp = [1 for _ in range(n+1)]\n",
        "        dp[2] = 2\n",
        "        for i in range(3, n+1):\n",
        "            dp[i] = dp[i-1] + dp[i-2] + dp[i-3]\n",
        "        return dp[n]"
      ],
      "execution_count": 0,
      "outputs": []
    },
    {
      "metadata": {
        "id": "zfX1aYOC64ya",
        "colab_type": "code",
        "colab": {
          "base_uri": "https://localhost:8080/",
          "height": 35
        },
        "outputId": "f1252502-462b-49fa-b3cf-68ee7d0ecdfa"
      },
      "cell_type": "code",
      "source": [
        "sample = 5\n",
        "s = Solution()\n",
        "s.climbStairs2(5)"
      ],
      "execution_count": 0,
      "outputs": [
        {
          "output_type": "execute_result",
          "data": {
            "text/plain": [
              "13"
            ]
          },
          "metadata": {
            "tags": []
          },
          "execution_count": 48
        }
      ]
    },
    {
      "metadata": {
        "id": "oTcS_Evw6hRs",
        "colab_type": "text"
      },
      "cell_type": "markdown",
      "source": [
        "## Triangle"
      ]
    },
    {
      "metadata": {
        "id": "PWwhkhGa6lRb",
        "colab_type": "text"
      },
      "cell_type": "markdown",
      "source": [
        "Description\n",
        "Given a triangle, find the minimum path sum from top to bottom. Each step you may move to adjacent numbers on the row below.\n",
        "\n",
        "Bonus point if you are able to do this using only O(n) extra space, where n is the total number of rows in the triangle.\n",
        "\n",
        "Have you met this question in a real interview?  \n",
        "Example\n",
        "Given the following triangle:\n",
        "\n",
        "[\n",
        "     [2],\n",
        "    [3,4],\n",
        "   [6,5,7],\n",
        "  [4,1,8,3]\n",
        "]\n",
        "The minimum path sum from top to bottom is 11 (i.e., 2 + 3 + 5 + 1 = 11)."
      ]
    },
    {
      "metadata": {
        "id": "cKOyfK2a0hdG",
        "colab_type": "code",
        "colab": {}
      },
      "cell_type": "code",
      "source": [
        "class Solution:\n",
        "    \"\"\"\n",
        "    @param triangle: a list of lists of integers\n",
        "    @return: An integer, minimum path sum\n",
        "    \"\"\"\n",
        "    def minimumTotal(self, triangle):\n",
        "        if len(triangle) == 0 or len(triangle[0]) == 0:\n",
        "            return 0\n",
        "        m = len(triangle)\n",
        "        # dp[x][y] stands for position x, y mini sum, 0 indexed\n",
        "        dp = [[0 for j in range(i+1)] for i in range(m)]\n",
        "        dp[0][0] = triangle[0][0]\n",
        "        for x in range(1, m):\n",
        "            for y in range(x+1):\n",
        "                if y == 0:\n",
        "                    dp[x][y] = triangle[x][y] + dp[x - 1][y]\n",
        "                elif y == x:\n",
        "                    dp[x][y] = triangle[x][y] + dp[x-1][y-1]\n",
        "                else:\n",
        "                    dp[x][y] = triangle[x][y] + min(dp[x-1][y], dp[x-1][y-1])\n",
        "        print dp\n",
        "        return min(dp[m-1])"
      ],
      "execution_count": 0,
      "outputs": []
    },
    {
      "metadata": {
        "id": "mv3HWW8E6vBc",
        "colab_type": "code",
        "colab": {
          "base_uri": "https://localhost:8080/",
          "height": 52
        },
        "outputId": "3a17ebdf-8c4e-49de-e26a-2e95fe7f4861"
      },
      "cell_type": "code",
      "source": [
        "sample = [ [2], [3,4], [6,5,7], [4,1,8,3] ] \n",
        "s = Solution()\n",
        "s.minimumTotal(sample)"
      ],
      "execution_count": 0,
      "outputs": [
        {
          "output_type": "stream",
          "text": [
            "[[2], [5, 6], [11, 10, 13], [15, 11, 18, 16]]\n"
          ],
          "name": "stdout"
        },
        {
          "output_type": "execute_result",
          "data": {
            "text/plain": [
              "11"
            ]
          },
          "metadata": {
            "tags": []
          },
          "execution_count": 23
        }
      ]
    },
    {
      "metadata": {
        "id": "5jyniBqS7d3N",
        "colab_type": "text"
      },
      "cell_type": "markdown",
      "source": [
        "## Minimum Sum"
      ]
    },
    {
      "metadata": {
        "id": "DtmKnJ5D7ioW",
        "colab_type": "text"
      },
      "cell_type": "markdown",
      "source": [
        "Description\n",
        "Given a m x n grid filled with non-negative numbers, find a path from top left to bottom right which minimizes the sum of all numbers along its path."
      ]
    },
    {
      "metadata": {
        "id": "uDa8Rlyg7h2T",
        "colab_type": "code",
        "colab": {}
      },
      "cell_type": "code",
      "source": [
        "class Solution:\n",
        "    \"\"\"\n",
        "    @param grid: a list of lists of integers\n",
        "    @return: An integer, minimizes the sum of all numbers along its path\n",
        "    \"\"\"\n",
        "    def minPathSum(self, grid):\n",
        "        if len(grid) == 0 or len(grid[0]) == 0:\n",
        "            return 0\n",
        "        m, n = len(grid), len(grid[0])\n",
        "        # dp[x][y] stands for position x, y mini path sum, 0 indexed\n",
        "        dp = [[0 for j in range(n)] for i in range(m)]\n",
        "        # dp init for dp[0][y], dp[x][0]\n",
        "        dp[0][0] = grid[0][0]\n",
        "        for i in range(1, m):\n",
        "            dp[i][0] = grid[i][0] + dp[i-1][0]\n",
        "        for j in range(1, n):\n",
        "            dp[0][j] = grid[0][j] + dp[0][j-1]\n",
        "\n",
        "        for i in range(1, m):\n",
        "            for j in range(1, n):\n",
        "                dp[i][j] = min(dp[i-1][j], dp[i][j-1]) + grid[i][j]\n",
        "        #print dp\n",
        "        return dp[m-1][n-1]"
      ],
      "execution_count": 0,
      "outputs": []
    },
    {
      "metadata": {
        "id": "2e7DMUlB7oA7",
        "colab_type": "code",
        "colab": {
          "base_uri": "https://localhost:8080/",
          "height": 35
        },
        "outputId": "2a20895e-a281-48a1-f382-e2594b197b51"
      },
      "cell_type": "code",
      "source": [
        "sample = [[1,2],[3,4]]\n",
        "s = Solution()\n",
        "s.minPathSum(sample)"
      ],
      "execution_count": 0,
      "outputs": [
        {
          "output_type": "execute_result",
          "data": {
            "text/plain": [
              "7"
            ]
          },
          "metadata": {
            "tags": []
          },
          "execution_count": 27
        }
      ]
    },
    {
      "metadata": {
        "id": "NrG1F5IsuFfF",
        "colab_type": "text"
      },
      "cell_type": "markdown",
      "source": [
        "# 接龙型动态规划\n",
        "单序列\n",
        "以字符串居多\n",
        "\t1. state: f[i]表示前i个位置/数字/字符,第i个…\n",
        "\t2. function: f[i] = f[j] … j 是i之前的一个位置\n",
        "\t3. initialize: f[0]..\n",
        "\t4. answer: f[n]..\n",
        "\t\t○ 一般answer是f(n)而不是f(n-1), 因为对于n个字符,包含前0个字符(空串),前1个字符……前n个字符。\n",
        "双序列\n",
        "一般给两个字符串\n",
        "\t1. state: f[i][j]代表了第一个sequence的前i个数字/字符,配上第二个sequence的前j个…\n",
        "\t2. function: f[i][j] = 研究第i个和第j个的匹配关系\n",
        "\t3. initialize: f[i][0] 和 f[0][i]\n",
        "\t4. answer: f[n][m]\n",
        "\t\t○ n = s1.length()\n",
        "\t\t○ m = s2.length()\n"
      ]
    },
    {
      "metadata": {
        "id": "8yynzYn1GYGq",
        "colab_type": "text"
      },
      "cell_type": "markdown",
      "source": [
        "## Jump Game I, II \n",
        "\n",
        "\n",
        "**Jump Game I Description**\n",
        "\n",
        "Given an array of non-negative integers, you are initially positioned at the first index of the array.\n",
        "\n",
        "Each element in the array represents your maximum jump length at that position.\n",
        "\n",
        "Determine if you are able to reach the last index.\n",
        "\n",
        "his problem have two method which is Greedy and Dynamic Programming.\n",
        "\n",
        "The time complexity of Greedy method is O(n).\n",
        "\n",
        "The time complexity of Dynamic Programming method is O(n^2).\n",
        "\n",
        "We manually set the small data set to allow you pass the test in both ways. This is just to let you learn how to use this problem in dynamic programming ways. If you finish it in dynamic programming ways, you can try greedy method to make it accept again.\n",
        "\n",
        "\n",
        "\n",
        "```\n",
        "Example\n",
        "A = [2,3,1,1,4], return true.\n",
        "\n",
        "A = [3,2,1,0,4], return false.\n",
        "```\n",
        "\n",
        "**Jump Game II Description**\n",
        "\n",
        "Given an array of non-negative integers, you are initially positioned at the first index of the array.\n",
        "\n",
        "Each element in the array represents your maximum jump length at that position.\n",
        "\n",
        "Your goal is to reach the last index in the minimum number of jumps.\n",
        "\n",
        "```\n",
        "Example\n",
        "Given array A = [2,3,1,1,4]\n",
        "```\n",
        "\n",
        "\n",
        "\n",
        "The minimum number of jumps to reach the last index is 2. (Jump 1 step from index 0 to 1, then 3 steps to the last index.)\n"
      ]
    },
    {
      "metadata": {
        "id": "_zLHXRVAGxNO",
        "colab_type": "code",
        "colab": {}
      },
      "cell_type": "code",
      "source": [
        "class Solution:\n",
        "    \"\"\"\n",
        "    @param A: A list of integers\n",
        "    @return: A boolean\n",
        "    \"\"\"\n",
        "    # Jump game I \n",
        "    def canJump(self, A):\n",
        "        if len(A) == 0:\n",
        "            return 0\n",
        "        maxJump, i = A[0], 0\n",
        "        count = 0\n",
        "        while i < len(A):\n",
        "            count += 1 \n",
        "            if maxJump >= len(A) - 1:\n",
        "                return True\n",
        "            if i <= maxJump:\n",
        "                maxJump = max(i+A[i], maxJump)\n",
        "                i += 1\n",
        "            if count > len(A):\n",
        "                return False\n",
        "    # Jump game II \n",
        "    def jump(self, A):\n",
        "        if len(A) == 0 or A[0] == 0:\n",
        "            return 0\n",
        "        if A[0] > len(A) - 1:\n",
        "            return 1\n",
        "        maxJmp, end, numJmp = A[0], A[0], 1\n",
        "        i = 1\n",
        "        while maxJmp < len(A) - 1:\n",
        "            if i <= end: # get maxJmp at the next time\n",
        "                maxJmp = max(maxJmp, i+A[i])\n",
        "                i += 1\n",
        "                continue\n",
        "            numJmp += 1\n",
        "            end = maxJmp\n",
        "        return numJmp+1"
      ],
      "execution_count": 0,
      "outputs": []
    },
    {
      "metadata": {
        "id": "3pJ6kzX1GdmH",
        "colab_type": "code",
        "colab": {
          "base_uri": "https://localhost:8080/",
          "height": 70
        },
        "outputId": "2554f308-31db-4ec6-f829-555f48aa590c"
      },
      "cell_type": "code",
      "source": [
        "s = Solution()\n",
        "print s.canJump([2,3,1,1,4])\n",
        "print s.canJump([1,2,3,4,5])\n",
        "print s.jump([1,2,3,4,5])"
      ],
      "execution_count": 0,
      "outputs": [
        {
          "output_type": "stream",
          "text": [
            "True\n",
            "True\n",
            "3\n"
          ],
          "name": "stdout"
        }
      ]
    },
    {
      "metadata": {
        "id": "vnI4NVX9uI7z",
        "colab_type": "text"
      },
      "cell_type": "markdown",
      "source": [
        "## Longest Increasing Subsequence\n",
        "Description\n",
        "Given a sequence of integers, find the longest increasing subsequence (LIS).\n",
        "\n",
        "You code should return the length of the LIS.\n",
        "\n",
        "\n",
        "Clarification\n",
        "What's the definition of longest increasing subsequence?\n",
        "\n",
        "The longest increasing subsequence problem is to find a subsequence of a given sequence in which the subsequence's elements are in sorted order, lowest to highest, and in which the subsequence is as long as possible. This subsequence is not necessarily contiguous, or unique.\n",
        "\n",
        "https://en.wikipedia.org/wiki/Longest_increasing_subsequence\n",
        "\n",
        "Example\n",
        "\n",
        "\n",
        "```\n",
        "For [5, 4, 1, 2, 3], the LIS is [1, 2, 3], return 3\n",
        "For [4, 2, 4, 5, 3, 7], the LIS is [2, 4, 5, 7], return 4\n",
        "```\n",
        "\n",
        "\n",
        "\n",
        "Challenge\n",
        "Time complexity O(n^2) or O(nlogn)"
      ]
    },
    {
      "metadata": {
        "id": "UKqoJm1NuUtb",
        "colab_type": "code",
        "colab": {}
      },
      "cell_type": "code",
      "source": [
        "class Solution:\n",
        "    \"\"\"\n",
        "    @param nums: An integer array\n",
        "    @return: The length of LIS (longest increasing subsequence)\n",
        "    \"\"\"\n",
        "    \n",
        "    # O(n^2) method\n",
        "    def longestIncreasingSubsequence(self, nums):\n",
        "        if len(nums) <= 1:\n",
        "            return len(nums)\n",
        "        n = len(nums)\n",
        "        # dp[i] stands for len of LIS of dp[:i], 0 index\n",
        "        dp = [1 for i in range(n)]\n",
        "        for i in range(1, n):\n",
        "            for j in range(0, i):\n",
        "                if nums[j] < nums[i]:\n",
        "                    dp[i] = max(dp[i], dp[j] + 1) # dp function\n",
        "        return max(dp)\n",
        "    \n",
        "    # O(nlogn) method\n",
        "    def lis(self, nums):\n",
        "        if len(nums) <= 1:\n",
        "            return len(nums)\n",
        "        import bisect\n",
        "        dp = []\n",
        "        maxlen = 0\n",
        "        for n in nums:\n",
        "            i = bisect.bisect_left(dp, n)\n",
        "            if i == len(dp):\n",
        "              dp.append(n)\n",
        "            else:\n",
        "              dp[i] = n\n",
        "            maxlen = maxlen + 1 if maxlen == i else maxlen\n",
        "        return maxlen"
      ],
      "execution_count": 0,
      "outputs": []
    },
    {
      "metadata": {
        "id": "Us5BJzV1Gx3N",
        "colab_type": "text"
      },
      "cell_type": "markdown",
      "source": [
        "Time Complexity test "
      ]
    },
    {
      "metadata": {
        "id": "QwgNalFVKMiI",
        "colab_type": "code",
        "colab": {
          "base_uri": "https://localhost:8080/",
          "height": 52
        },
        "outputId": "4fad6deb-13e5-4ee4-a5dc-9047d1f1b752"
      },
      "cell_type": "code",
      "source": [
        "import random, timeit\n",
        "s = Solution()\n",
        "sample = random.sample(range(1000), 500)\n",
        "print timeit.timeit('s.longestIncreasingSubsequence(sample)',  \n",
        "                    setup='from __main__ import s, sample', number=100)\n",
        "print timeit.timeit('s.lis(sample)', \n",
        "                    setup='from __main__ import s, sample', number=100)"
      ],
      "execution_count": 0,
      "outputs": [
        {
          "output_type": "stream",
          "text": [
            "1.63590192795\n",
            "0.0157740116119\n"
          ],
          "name": "stdout"
        }
      ]
    },
    {
      "metadata": {
        "id": "7QllN7EmN24D",
        "colab_type": "text"
      },
      "cell_type": "markdown",
      "source": [
        "## Largest Divisible Subset\n",
        "\n",
        "Given a set of distinct positive integers, find the largest subset such that every pair (Si, Sj) of elements in this subset satisfies: Si % Sj = 0 or Sj % Si = 0.\n",
        "\n",
        "If there are multiple solutions, return any subset is fine.\n",
        "\n",
        "```  \n",
        "Example\n",
        "Given nums = [1,2,3], return [1,2] or [1,3]\n",
        "\n",
        "Given nums = [1,2,4,8], return [1,2,4,8]\n",
        "```\n"
      ]
    },
    {
      "metadata": {
        "id": "s80rg1LIN_WE",
        "colab_type": "code",
        "colab": {}
      },
      "cell_type": "code",
      "source": [
        "class Solution:\n",
        "    \"\"\"\n",
        "    @param: nums: a set of distinct positive integers\n",
        "    @return: the largest subset\n",
        "    \"\"\"\n",
        "    def largestDivisibleSubset(self, nums):\n",
        "        # write your code here\n",
        "        if len(nums) <= 1:\n",
        "            return nums\n",
        "        n = len(nums)\n",
        "        nums.sort()\n",
        "        # dp[i] stands for len of LIS of dp[:i], 0 index\n",
        "        dp = [1 for i in range(n)]\n",
        "        father = [-1 for j in range(n)]\n",
        "        for i in range(1, n):\n",
        "            for j in range(0, i):\n",
        "                if nums[i] % nums[j] == 0:\n",
        "                    if dp[j] + 1 > dp[i]:\n",
        "                      dp[i] = max(dp[i], dp[j] + 1)\n",
        "                      father[i] = j\n",
        "        m = max(dp)\n",
        "        index = dp.index(m)\n",
        "        ans = []\n",
        "        for i in range(m, 0, -1):\n",
        "            ans.append(nums[index])\n",
        "            index = father[index]\n",
        "        return ans\n",
        "    \n"
      ],
      "execution_count": 0,
      "outputs": []
    },
    {
      "metadata": {
        "id": "HjrUI6KoOMTU",
        "colab_type": "code",
        "colab": {
          "base_uri": "https://localhost:8080/",
          "height": 52
        },
        "outputId": "3ddd2f56-4c34-44f9-c54b-c79815b9fcdd"
      },
      "cell_type": "code",
      "source": [
        "s = Solution()\n",
        "sample = [1,2,3]\n",
        "print s.largestDivisibleSubset(sample)\n",
        "sample = [1,2,4,8]\n",
        "print s.largestDivisibleSubset(sample)"
      ],
      "execution_count": 0,
      "outputs": [
        {
          "output_type": "stream",
          "text": [
            "[2, 1]\n",
            "[8, 4, 2, 1]\n"
          ],
          "name": "stdout"
        }
      ]
    },
    {
      "metadata": {
        "id": "8Sq2O8gNOlIL",
        "colab_type": "text"
      },
      "cell_type": "markdown",
      "source": [
        "## Russian Doll Envelopes\n",
        "\n",
        "Description\n",
        "You have a number of envelopes with widths and heights given as a pair of integers (w, h). One envelope can fit into another if and only if both the width and height of one envelope is greater than the width and height of the other envelope.\n",
        "\n",
        "What is the maximum number of envelopes can you Russian doll? (put one inside other)\n",
        "\n",
        "```\n",
        "Example\n",
        "Given envelopes = [[5,4],[6,4],[6,7],[2,3]],\n",
        "the maximum number of envelopes you can Russian doll is 3 ([2,3] => [5,4] => [6,7]).\n",
        "```"
      ]
    },
    {
      "metadata": {
        "id": "XBw0-QvXOzGN",
        "colab_type": "code",
        "colab": {}
      },
      "cell_type": "code",
      "source": [
        "class Solution:\n",
        "    \"\"\"\n",
        "    @param: envelopes: a number of envelopes with widths and heights\n",
        "    @return: the maximum number of envelopes\n",
        "    \"\"\"\n",
        "    def maxEnvelopes(self, envelopes):\n",
        "        if len(envelopes) == 0:\n",
        "            return 0\n",
        "        envelopes.sort(key = lambda x:(x[0], -x[1]))\n",
        "        nums = [x[1] for x in envelopes]\n",
        "        return self.lis(nums)\n",
        "\n",
        "    def lis(self, nums):\n",
        "        if len(nums) <= 1:\n",
        "            return len(nums)\n",
        "        import bisect\n",
        "        dp = [0 for _ in range(len(nums))]\n",
        "        maxlen = 0\n",
        "        for n in nums:\n",
        "            i = bisect.bisect_left(dp, n, 0, maxlen)\n",
        "            dp[i] = n\n",
        "            maxlen = maxlen + 1 if maxlen == i else maxlen\n",
        "        return maxlen\n",
        "        "
      ],
      "execution_count": 0,
      "outputs": []
    },
    {
      "metadata": {
        "id": "SFH49whVOtpV",
        "colab_type": "code",
        "colab": {
          "base_uri": "https://localhost:8080/",
          "height": 35
        },
        "outputId": "c9770d33-3a55-4512-f95a-2b92a35d921d"
      },
      "cell_type": "code",
      "source": [
        "sample = [[3419,8423],[164,2627],[3139,7517],[1751,4154],[9489,86],[6637,3814],\n",
        "          [8056,4472],[1361,7808],[8951,7291],[2729,3128],[3981,8815],[492,3230],\n",
        "          [8077,8257],[1046,8951],[7601,3995],[8077,2335],[7913,6100],[2120,552],\n",
        "          [8052,7377],[3699,4314],[4956,9383],[1398,9645],[5612,3194],[1041,7969],\n",
        "          [9353,9504],[3498,6074],[3778,6387],[6444,926],[8188,3068],[7573,9346],\n",
        "          [1947,2744],[3161,1583],[6931,2466],[3123,2746],[3063,9465],[5436,4950],\n",
        "          [2706,2321],[705,4817],[6848,3079],[7513,2377],[3314,3572],[1932,2535],\n",
        "          [2635,6677],[31,1250],[3553,3075],[8978,2303],[6216,5277],[6544,5712],\n",
        "          [8566,6145],[3541,9898],[7554,842],[1566,7443],[3891,2823],[8698,8532],\n",
        "          [1692,6859],[4094,8342],[5207,9744],[3020,3461],[4752,6631],[2033,1323],\n",
        "          [6094,3315],[16,8209],[3776,2627],[8889,2818],[755,2167],[9267,8809],\n",
        "          [9701,777],[9464,9921],[2657,9329],[8606,8059],[6912,9454],[133,6606],\n",
        "          [7149,5042],[7765,6180],[5361,4592],[7149,1438],[847,9109],[732,786],\n",
        "          [9824,548],[9833,2443],[9920,232],[9957,8386],[1792,5312],[2950,3834],\n",
        "          [3650,7948],[900,5644],[9741,7375]]\n",
        "s = Solution()\n",
        "s.maxEnvelopes(sample)\n"
      ],
      "execution_count": 0,
      "outputs": [
        {
          "output_type": "execute_result",
          "data": {
            "text/plain": [
              "19"
            ]
          },
          "metadata": {
            "tags": []
          },
          "execution_count": 15
        }
      ]
    },
    {
      "metadata": {
        "id": "XJDvwQTMDcR_",
        "colab_type": "text"
      },
      "cell_type": "markdown",
      "source": [
        "## Knight Shortest Path\n",
        "Description\n",
        "Given a knight in a chessboard (a binary matrix with 0 as empty and 1 as barrier) with a source position, find the shortest path to a destination position, return the length of the route.\n",
        "Return -1 if knight can not reached."
      ]
    },
    {
      "metadata": {
        "id": "RZRcY8i7E4ol",
        "colab_type": "text"
      },
      "cell_type": "markdown",
      "source": [
        "这道题可以用BFS 也可以用DFS， 推荐使用BFS，因为使用DFS有可能会超时"
      ]
    },
    {
      "metadata": {
        "id": "AXdyqXMNDbul",
        "colab_type": "code",
        "colab": {}
      },
      "cell_type": "code",
      "source": [
        "class Point:\n",
        "    def __init__(self, a=0, b=0):\n",
        "        self.x = a\n",
        "        self.y = b\n",
        "        \n",
        "class Solution:\n",
        "    \"\"\"\n",
        "    @param grid: a chessboard included 0 (false) and 1 (true)\n",
        "    @param source: a point\n",
        "    @param destination: a point\n",
        "    @return: the shortest path \n",
        "    \"\"\"\n",
        "    def shortestPath_dfs(self, grid, source, destination):\n",
        "        m, n = len(grid), len(grid[0])\n",
        "        import sys\n",
        "        record = [[sys.maxsize for j in range(n)] for i in range(m)]\n",
        "        steps = [[1,2],[1,-2],[-1,2],[-1,-2],\n",
        "                 [2,1],[2,-1],[-2,1],[-2,-1]]\n",
        "        x,y = source.x, source.y\n",
        "        record[x][y] = 0\n",
        "        \n",
        "        def dfs(x,y):\n",
        "          #print x, y\n",
        "          for step in steps:\n",
        "            new_x, new_y = x + step[0], y + step[1]\n",
        "            if 0 <= new_x < m and 0 <= new_y < n and grid[x][y] != 1 \\\n",
        "              and record[new_x][new_y] > record[x][y] + 1:\n",
        "              record[new_x][new_y] = record[x][y] + 1\n",
        "              dfs(new_x, new_y)\n",
        "        \n",
        "        dfs(x,y)\n",
        "        return record[destination.x][destination.y] if record[destination.x][destination.y] != sys.maxsize else -1\n",
        "  \n",
        "    def shortestPath_bfs(self, grid, source, destination):\n",
        "        # Write your code here\n",
        "        m = len(grid)\n",
        "        n = len(grid[0])\n",
        "\n",
        "        import sys\n",
        "        record = [[sys.maxint for _ in xrange(n)] for i in xrange(m)]\n",
        "        x,y = source.x, source.y\n",
        "        record[x][y] = 0\n",
        "        \n",
        "        q = []\n",
        "        q.append((x,y))\n",
        "        steps = [(-2, -1), (-2, 1), (-1, 2), (1, 2), (2, 1), (2, -1), (1, -2), (-1, -2)]\n",
        "        \n",
        "        while len(q) > 0:\n",
        "            x, y = q.pop(0) # pop(0) will take O(1), not O(n) or o(0) \n",
        "            #print x, y\n",
        "            for dx, dy in steps:\n",
        "                new_x, new_y = x + dx, y + dy\n",
        "                if 0 <= new_x < m and 0 <= new_y < n and grid[new_x][new_y] == 0 \\\n",
        "                and record[new_x][new_y] > record[x][y] + 1:\n",
        "                    record[new_x][new_y] = record[x][y] + 1\n",
        "                    q.append((new_x, new_y))\n",
        "\n",
        "        if record[destination.x][destination.y] == sys.maxint:\n",
        "            return -1\n",
        "\n",
        "        return record[destination.x][destination.y]"
      ],
      "execution_count": 0,
      "outputs": []
    },
    {
      "metadata": {
        "id": "eKxBjxcCFNyt",
        "colab_type": "code",
        "colab": {
          "base_uri": "https://localhost:8080/",
          "height": 337
        },
        "outputId": "c3d35a22-817f-479d-ba75-17d7b828516a"
      },
      "cell_type": "code",
      "source": [
        "grid = [[0,1,0], [0,0,0], [0,0,0]]\n",
        "s = Point(2,0)\n",
        "d = Point(2,2)\n",
        "Solution().shortestPath_dfs(grid, s, d)\n",
        "print '-'\n",
        "Solution().shortestPath_bfs(grid, s, d)"
      ],
      "execution_count": 0,
      "outputs": [
        {
          "output_type": "stream",
          "text": [
            "2 0\n",
            "1 2\n",
            "0 0\n",
            "2 1\n",
            "0 2\n",
            "1 0\n",
            "2 2\n",
            "0 1\n",
            "0 1\n",
            "-\n",
            "2 0\n",
            "1 2\n",
            "0 0\n",
            "2 1\n",
            "0 2\n",
            "1 0\n",
            "2 2\n"
          ],
          "name": "stdout"
        },
        {
          "output_type": "execute_result",
          "data": {
            "text/plain": [
              "6"
            ]
          },
          "metadata": {
            "tags": []
          },
          "execution_count": 25
        }
      ]
    },
    {
      "metadata": {
        "id": "M9_rYNHFG3u9",
        "colab_type": "text"
      },
      "cell_type": "markdown",
      "source": [
        "可以看到BFS比DFS访问的步数少， 下面用随机数据测试一下，2000次测试10大小的矩阵，大概相差二十倍\n",
        "Time complexity test: "
      ]
    },
    {
      "metadata": {
        "id": "G2HCHUrdKEKj",
        "colab_type": "code",
        "colab": {
          "base_uri": "https://localhost:8080/",
          "height": 52
        },
        "outputId": "5c48b9fd-9aa7-45f1-d95a-11a0c7c85c40"
      },
      "cell_type": "code",
      "source": [
        "import random, timeit\n",
        "import numpy as np\n",
        "grid = np.array([random.choice([0,0,0,0,0,1]) for i in range(100)]).reshape(10,10).tolist()\n",
        "grid[0][0], grid[9][9] = 0, 0\n",
        "s = Point(0,0)\n",
        "d = Point(9,9)\n",
        "S = Solution()\n",
        "print timeit.timeit('S.shortestPath_dfs(grid, s, d)',  \n",
        "                    setup='from __main__ import s,S,d,grid', number=2000)\n",
        "print timeit.timeit('S.shortestPath_bfs(grid, s, d)', \n",
        "                    setup='from __main__ import s,S,d,grid', number=2000)"
      ],
      "execution_count": 0,
      "outputs": [
        {
          "output_type": "stream",
          "text": [
            "7.27985882759\n",
            "0.369009971619\n"
          ],
          "name": "stdout"
        }
      ]
    },
    {
      "metadata": {
        "id": "9cLA-5SUNaCp",
        "colab_type": "text"
      },
      "cell_type": "markdown",
      "source": [
        "其实这道题考搜索多于考DP，应该放在BFS里面复习，还有一道类似的题目，也一并在这里记录了\n",
        "## 0-1 matrix"
      ]
    },
    {
      "metadata": {
        "id": "frTqG3-2N23I",
        "colab_type": "text"
      },
      "cell_type": "markdown",
      "source": [
        "Given a matrix consists of 0 and 1, find the distance of the nearest 0 for each cell.\n",
        "\n",
        "The distance between two adjacent cells is 1.\n",
        "```\n",
        "Example 1: \n",
        "Input:\n",
        "0 0 0\n",
        "0 1 0\n",
        "0 0 0\n",
        "\n",
        "Output:\n",
        "0 0 0\n",
        "0 1 0\n",
        "0 0 0\n",
        "\n",
        "Example 2: \n",
        "Input:\n",
        "0 0 0\n",
        "0 1 0\n",
        "1 1 1\n",
        "\n",
        "Output:\n",
        "0 0 0\n",
        "0 1 0\n",
        "1 2 1\n",
        "```\n",
        "Note:\n",
        "The number of elements of the given matrix will not exceed 10,000.\n",
        "There are at least one 0 in the given matrix.\n",
        "The cells are adjacent in only four directions: up, down, left and right."
      ]
    },
    {
      "metadata": {
        "id": "nylUiuqiOIPZ",
        "colab_type": "text"
      },
      "cell_type": "markdown",
      "source": [
        "这道题目的结构就反而是BFS劣于DFS了，因为搜索的宽度不一样"
      ]
    },
    {
      "metadata": {
        "id": "zE3K2JxeOUMJ",
        "colab_type": "text"
      },
      "cell_type": "markdown",
      "source": [
        "## Perfect Square\n",
        "\n",
        "Description\n",
        "Given a positive integer n, find the least number of perfect square numbers (for example, 1, 4, 9, 16, ...) which sum to n.\n",
        "\n",
        "Have you met this question in a real interview?  \n",
        "Example\n",
        "\n",
        "\n",
        "Given n = 12, return 3 because 12 = 4 + 4 + 4\n",
        "\n",
        "Given n = 13, return 2 because 13 = 4 + 9"
      ]
    },
    {
      "metadata": {
        "id": "6Vsky6OzOmHI",
        "colab_type": "text"
      },
      "cell_type": "markdown",
      "source": [
        "这道题写几个数就明白了\n",
        "```\n",
        "dp[0] = 0 \n",
        "dp[1] = dp[0]+1 = 1\n",
        "dp[2] = dp[1]+1 = 2\n",
        "dp[3] = dp[2]+1 = 3\n",
        "dp[4] = Min{ dp[4-1*1]+1, dp[4-2*2]+1 } \n",
        "      = Min{ dp[3]+1, dp[0]+1 } \n",
        "      = 1\t\t\t\t\n",
        "dp[5] = Min{ dp[5-1*1]+1, dp[5-2*2]+1 } \n",
        "      = Min{ dp[4]+1, dp[1]+1 } \n",
        "      = 2\n",
        "\t\t\t\t\t\t.\n",
        "\t\t\t\t\t\t.\n",
        "\t\t\t\t\t\t.\n",
        "dp[13] = Min{ dp[13-1*1]+1, dp[13-2*2]+1, dp[13-3*3]+1 } \n",
        "       = Min{ dp[12]+1, dp[9]+1, dp[4]+1 } \n",
        "       = 2\n",
        "```\n",
        "\n",
        "\n",
        "$dp[n] = Min{dp[n - i * i] + 1},  n - i*i >=0 && i >= 1$"
      ]
    },
    {
      "metadata": {
        "id": "uwn-DYv0Oh25",
        "colab_type": "code",
        "colab": {
          "base_uri": "https://localhost:8080/",
          "height": 34
        },
        "outputId": "55f54cc3-6ed1-4b15-f31d-42f511ccc0e5"
      },
      "cell_type": "code",
      "source": [
        "import sys\n",
        "import math\n",
        "class Solution:\n",
        "    \"\"\"\n",
        "    @param n: a positive integer\n",
        "    @return: An integer\n",
        "    \"\"\"\n",
        "    #O(n * sqrt(n)) method \n",
        "    def numSquares(self, n):\n",
        "      dp = [sys.maxsize for _ in range(n+1)]\n",
        "      dp[0] = 0\n",
        "      for i in range(1, n+1):\n",
        "        for j in range(1, i+1):\n",
        "          if i - j*j < 0: break\n",
        "          dp[i] = min(dp[i], dp[i-j*j] + 1)\n",
        "      \n",
        "      print dp\n",
        "      return dp[n]\n",
        "    \n",
        "if __name__ == \"__main__\":    \n",
        "  n = 12\n",
        "  Solution().numSquares(n)"
      ],
      "execution_count": 18,
      "outputs": [
        {
          "output_type": "stream",
          "text": [
            "[0, 1, 2, 3, 1, 2, 3, 4, 2, 1, 2, 3, 3]\n"
          ],
          "name": "stdout"
        }
      ]
    },
    {
      "metadata": {
        "id": "QCIx_VE2rg9Q",
        "colab_type": "text"
      },
      "cell_type": "markdown",
      "source": [
        "# 划分型动态规划\n",
        "\n",
        "\n",
        "题目：给一个序列，求一次划分区间，求区间中的最大值\n",
        "\t1. state: f[i] 表⽰示前 个元素的最⼤大值\n",
        "\t2. function: f[i] = 前 i 个元素里⾯选一个区间的最⼤值\n",
        "\t3. initialize: f[0]..\n",
        "\t4. answer: f[n-1]..\n",
        "优化\n",
        "\t1. state:\n",
        "\t\t○ gobal[i] 表示前 i 个元素的最大值\n",
        "\t\t○ local[i] 表⽰示包含第 i 个元素前 i 个元素的最大值\n",
        "\t2. function:\n",
        "\t\t○ global[i] = 通过 local[i] 更新\n",
        "\t\t○ local[i] = 通过原序列或者 global[i] 更新\n",
        "\t3. initialize: global[0].. Local[i]\n",
        "\t4. answer: global[n-1]..\n",
        "\n",
        "\n",
        "\n"
      ]
    },
    {
      "metadata": {
        "id": "D7ZMJ9c1riV8",
        "colab_type": "text"
      },
      "cell_type": "markdown",
      "source": [
        "# 背包型动态规划\n",
        "\n",
        "\n",
        "特点：\n",
        "\t1. 用值作为DP维度\n",
        "\t2. DP过程就是填写矩阵\n",
        "\t3. 可以滚动数组优化\n",
        "Backpack\n",
        "\t1. State:\n",
        "\t\t○ f[i][S] “前i”个物品，取出一些能否组成和为S\n",
        "\t2. Function:\n",
        "\t\t○ f[i][S] = f[i-1][S - a[i]] or f[i-1][S]\n",
        "\t3. Intialize:\n",
        "\t\t○ f[i][0] = true; f[0][1..target] = false\n",
        "\t4. Answer:\n",
        "\t\t○ 检查所有的f[n][j]\n",
        "时间复杂度 O(n*S) ， 滚动数组优化\n",
        "\n",
        "\n",
        "\n"
      ]
    },
    {
      "metadata": {
        "id": "pYSh20CBri5F",
        "colab_type": "text"
      },
      "cell_type": "markdown",
      "source": [
        "# 区间型动态规划\n",
        "\n",
        "特点：\n",
        "\t1. 求一段区间的解max/min/count\n",
        "\t2. 转移方程通过区间更新\n",
        "\t3. 从大到小的更新\n",
        "这种题目共性就是区间最后求[0,n-1] 这样一个区间，逆向思维分析，从大到小就能迎刃而解， 逆向 =》 分治类似"
      ]
    },
    {
      "metadata": {
        "id": "bIFNuMmArjAl",
        "colab_type": "text"
      },
      "cell_type": "markdown",
      "source": [
        "# 博弈型动态规划\n",
        "\n",
        "\n",
        "博弈有先后手\n",
        "\t1. State:\n",
        "\t\t○ 定义一个人的状态\n",
        "\t2. Function:\n",
        "\t\t○ 考虑两个人的状态做状态更新\n",
        "\t3. Initialize:\n",
        "\t4. Answer:\n",
        "先思考最小状态, 然后思考大的状态-> 往小的递推，那么非常适合记忆化搜索\n"
      ]
    }
  ]
}